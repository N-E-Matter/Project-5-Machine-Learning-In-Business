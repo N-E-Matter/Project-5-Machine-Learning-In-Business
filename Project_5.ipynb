{
 "cells": [
  {
   "cell_type": "markdown",
   "metadata": {},
   "source": [
    "# Выбор локации для скважины"
   ]
  },
  {
   "cell_type": "markdown",
   "metadata": {},
   "source": [
    "Допустим, вы работаете в добывающей компании «ГлавРосГосНефть». Нужно решить, где бурить новую скважину.\n",
    "\n",
    "Вам предоставлены пробы нефти в трёх регионах: в каждом 10 000 месторождений, где измерили качество нефти и объём её запасов. Постройте модель машинного обучения, которая поможет определить регион, где добыча принесёт наибольшую прибыль. Проанализируйте возможную прибыль и риски техникой *Bootstrap.*\n",
    "\n",
    "Шаги для выбора локации:\n",
    "\n",
    "- В избранном регионе ищут месторождения, для каждого определяют значения признаков;\n",
    "- Строят модель и оценивают объём запасов;\n",
    "- Выбирают месторождения с самым высокими оценками значений. Количество месторождений зависит от бюджета компании и стоимости разработки одной скважины;\n",
    "- Прибыль равна суммарной прибыли отобранных месторождений."
   ]
  },
  {
   "cell_type": "markdown",
   "metadata": {},
   "source": [
    "## Загрузка и подготовка данных"
   ]
  },
  {
   "cell_type": "markdown",
   "metadata": {},
   "source": [
    "### **Импорт библиотек:**"
   ]
  },
  {
   "cell_type": "code",
   "execution_count": 1,
   "metadata": {},
   "outputs": [],
   "source": [
    "import pandas as pd\n",
    "import numpy as np\n",
    "import matplotlib.pyplot as plt\n",
    "from sklearn.model_selection import train_test_split\n",
    "from sklearn.linear_model import LinearRegression\n",
    "from sklearn.metrics import mean_squared_error\n",
    "from sklearn.preprocessing import StandardScaler\n",
    "from sklearn.utils import shuffle\n",
    "import scipy.stats as st\n",
    "import warnings\n",
    "warnings.filterwarnings('ignore')"
   ]
  },
  {
   "cell_type": "markdown",
   "metadata": {},
   "source": [
    "### **Основная информация датафреймов:**"
   ]
  },
  {
   "cell_type": "code",
   "execution_count": 2,
   "metadata": {},
   "outputs": [
    {
     "data": {
      "text/html": [
       "<div>\n",
       "<style scoped>\n",
       "    .dataframe tbody tr th:only-of-type {\n",
       "        vertical-align: middle;\n",
       "    }\n",
       "\n",
       "    .dataframe tbody tr th {\n",
       "        vertical-align: top;\n",
       "    }\n",
       "\n",
       "    .dataframe thead th {\n",
       "        text-align: right;\n",
       "    }\n",
       "</style>\n",
       "<table border=\"1\" class=\"dataframe\">\n",
       "  <thead>\n",
       "    <tr style=\"text-align: right;\">\n",
       "      <th></th>\n",
       "      <th>id</th>\n",
       "      <th>f0</th>\n",
       "      <th>f1</th>\n",
       "      <th>f2</th>\n",
       "      <th>product</th>\n",
       "    </tr>\n",
       "  </thead>\n",
       "  <tbody>\n",
       "    <tr>\n",
       "      <th>0</th>\n",
       "      <td>txEyH</td>\n",
       "      <td>0.705745</td>\n",
       "      <td>-0.497823</td>\n",
       "      <td>1.221170</td>\n",
       "      <td>105.280062</td>\n",
       "    </tr>\n",
       "    <tr>\n",
       "      <th>1</th>\n",
       "      <td>2acmU</td>\n",
       "      <td>1.334711</td>\n",
       "      <td>-0.340164</td>\n",
       "      <td>4.365080</td>\n",
       "      <td>73.037750</td>\n",
       "    </tr>\n",
       "    <tr>\n",
       "      <th>2</th>\n",
       "      <td>409Wp</td>\n",
       "      <td>1.022732</td>\n",
       "      <td>0.151990</td>\n",
       "      <td>1.419926</td>\n",
       "      <td>85.265647</td>\n",
       "    </tr>\n",
       "    <tr>\n",
       "      <th>3</th>\n",
       "      <td>iJLyR</td>\n",
       "      <td>-0.032172</td>\n",
       "      <td>0.139033</td>\n",
       "      <td>2.978566</td>\n",
       "      <td>168.620776</td>\n",
       "    </tr>\n",
       "    <tr>\n",
       "      <th>4</th>\n",
       "      <td>Xdl7t</td>\n",
       "      <td>1.988431</td>\n",
       "      <td>0.155413</td>\n",
       "      <td>4.751769</td>\n",
       "      <td>154.036647</td>\n",
       "    </tr>\n",
       "  </tbody>\n",
       "</table>\n",
       "</div>"
      ],
      "text/plain": [
       "      id        f0        f1        f2     product\n",
       "0  txEyH  0.705745 -0.497823  1.221170  105.280062\n",
       "1  2acmU  1.334711 -0.340164  4.365080   73.037750\n",
       "2  409Wp  1.022732  0.151990  1.419926   85.265647\n",
       "3  iJLyR -0.032172  0.139033  2.978566  168.620776\n",
       "4  Xdl7t  1.988431  0.155413  4.751769  154.036647"
      ]
     },
     "metadata": {},
     "output_type": "display_data"
    },
    {
     "name": "stdout",
     "output_type": "stream",
     "text": [
      "\n",
      "<class 'pandas.core.frame.DataFrame'>\n",
      "RangeIndex: 100000 entries, 0 to 99999\n",
      "Data columns (total 5 columns):\n",
      " #   Column   Non-Null Count   Dtype  \n",
      "---  ------   --------------   -----  \n",
      " 0   id       100000 non-null  object \n",
      " 1   f0       100000 non-null  float64\n",
      " 2   f1       100000 non-null  float64\n",
      " 3   f2       100000 non-null  float64\n",
      " 4   product  100000 non-null  float64\n",
      "dtypes: float64(4), object(1)\n",
      "memory usage: 3.8+ MB\n",
      "None\n",
      "\n",
      "(100000, 5)\n"
     ]
    }
   ],
   "source": [
    "data_0 = pd.read_csv('/datasets/geo_data_0.csv')\n",
    "display(data_0.head())\n",
    "print()\n",
    "print(data_0.info())\n",
    "print()\n",
    "print(data_0.shape)"
   ]
  },
  {
   "cell_type": "code",
   "execution_count": 3,
   "metadata": {},
   "outputs": [
    {
     "data": {
      "text/html": [
       "<div>\n",
       "<style scoped>\n",
       "    .dataframe tbody tr th:only-of-type {\n",
       "        vertical-align: middle;\n",
       "    }\n",
       "\n",
       "    .dataframe tbody tr th {\n",
       "        vertical-align: top;\n",
       "    }\n",
       "\n",
       "    .dataframe thead th {\n",
       "        text-align: right;\n",
       "    }\n",
       "</style>\n",
       "<table border=\"1\" class=\"dataframe\">\n",
       "  <thead>\n",
       "    <tr style=\"text-align: right;\">\n",
       "      <th></th>\n",
       "      <th>id</th>\n",
       "      <th>f0</th>\n",
       "      <th>f1</th>\n",
       "      <th>f2</th>\n",
       "      <th>product</th>\n",
       "    </tr>\n",
       "  </thead>\n",
       "  <tbody>\n",
       "    <tr>\n",
       "      <th>0</th>\n",
       "      <td>kBEdx</td>\n",
       "      <td>-15.001348</td>\n",
       "      <td>-8.276000</td>\n",
       "      <td>-0.005876</td>\n",
       "      <td>3.179103</td>\n",
       "    </tr>\n",
       "    <tr>\n",
       "      <th>1</th>\n",
       "      <td>62mP7</td>\n",
       "      <td>14.272088</td>\n",
       "      <td>-3.475083</td>\n",
       "      <td>0.999183</td>\n",
       "      <td>26.953261</td>\n",
       "    </tr>\n",
       "    <tr>\n",
       "      <th>2</th>\n",
       "      <td>vyE1P</td>\n",
       "      <td>6.263187</td>\n",
       "      <td>-5.948386</td>\n",
       "      <td>5.001160</td>\n",
       "      <td>134.766305</td>\n",
       "    </tr>\n",
       "    <tr>\n",
       "      <th>3</th>\n",
       "      <td>KcrkZ</td>\n",
       "      <td>-13.081196</td>\n",
       "      <td>-11.506057</td>\n",
       "      <td>4.999415</td>\n",
       "      <td>137.945408</td>\n",
       "    </tr>\n",
       "    <tr>\n",
       "      <th>4</th>\n",
       "      <td>AHL4O</td>\n",
       "      <td>12.702195</td>\n",
       "      <td>-8.147433</td>\n",
       "      <td>5.004363</td>\n",
       "      <td>134.766305</td>\n",
       "    </tr>\n",
       "  </tbody>\n",
       "</table>\n",
       "</div>"
      ],
      "text/plain": [
       "      id         f0         f1        f2     product\n",
       "0  kBEdx -15.001348  -8.276000 -0.005876    3.179103\n",
       "1  62mP7  14.272088  -3.475083  0.999183   26.953261\n",
       "2  vyE1P   6.263187  -5.948386  5.001160  134.766305\n",
       "3  KcrkZ -13.081196 -11.506057  4.999415  137.945408\n",
       "4  AHL4O  12.702195  -8.147433  5.004363  134.766305"
      ]
     },
     "metadata": {},
     "output_type": "display_data"
    },
    {
     "name": "stdout",
     "output_type": "stream",
     "text": [
      "\n",
      "<class 'pandas.core.frame.DataFrame'>\n",
      "RangeIndex: 100000 entries, 0 to 99999\n",
      "Data columns (total 5 columns):\n",
      " #   Column   Non-Null Count   Dtype  \n",
      "---  ------   --------------   -----  \n",
      " 0   id       100000 non-null  object \n",
      " 1   f0       100000 non-null  float64\n",
      " 2   f1       100000 non-null  float64\n",
      " 3   f2       100000 non-null  float64\n",
      " 4   product  100000 non-null  float64\n",
      "dtypes: float64(4), object(1)\n",
      "memory usage: 3.8+ MB\n",
      "None\n",
      "\n",
      "(100000, 5)\n"
     ]
    }
   ],
   "source": [
    "data_1 = pd.read_csv('/datasets/geo_data_1.csv')\n",
    "display(data_1.head())\n",
    "print()\n",
    "print(data_1.info())\n",
    "print()\n",
    "print(data_1.shape)"
   ]
  },
  {
   "cell_type": "code",
   "execution_count": 4,
   "metadata": {},
   "outputs": [
    {
     "data": {
      "text/html": [
       "<div>\n",
       "<style scoped>\n",
       "    .dataframe tbody tr th:only-of-type {\n",
       "        vertical-align: middle;\n",
       "    }\n",
       "\n",
       "    .dataframe tbody tr th {\n",
       "        vertical-align: top;\n",
       "    }\n",
       "\n",
       "    .dataframe thead th {\n",
       "        text-align: right;\n",
       "    }\n",
       "</style>\n",
       "<table border=\"1\" class=\"dataframe\">\n",
       "  <thead>\n",
       "    <tr style=\"text-align: right;\">\n",
       "      <th></th>\n",
       "      <th>id</th>\n",
       "      <th>f0</th>\n",
       "      <th>f1</th>\n",
       "      <th>f2</th>\n",
       "      <th>product</th>\n",
       "    </tr>\n",
       "  </thead>\n",
       "  <tbody>\n",
       "    <tr>\n",
       "      <th>0</th>\n",
       "      <td>fwXo0</td>\n",
       "      <td>-1.146987</td>\n",
       "      <td>0.963328</td>\n",
       "      <td>-0.828965</td>\n",
       "      <td>27.758673</td>\n",
       "    </tr>\n",
       "    <tr>\n",
       "      <th>1</th>\n",
       "      <td>WJtFt</td>\n",
       "      <td>0.262778</td>\n",
       "      <td>0.269839</td>\n",
       "      <td>-2.530187</td>\n",
       "      <td>56.069697</td>\n",
       "    </tr>\n",
       "    <tr>\n",
       "      <th>2</th>\n",
       "      <td>ovLUW</td>\n",
       "      <td>0.194587</td>\n",
       "      <td>0.289035</td>\n",
       "      <td>-5.586433</td>\n",
       "      <td>62.871910</td>\n",
       "    </tr>\n",
       "    <tr>\n",
       "      <th>3</th>\n",
       "      <td>q6cA6</td>\n",
       "      <td>2.236060</td>\n",
       "      <td>-0.553760</td>\n",
       "      <td>0.930038</td>\n",
       "      <td>114.572842</td>\n",
       "    </tr>\n",
       "    <tr>\n",
       "      <th>4</th>\n",
       "      <td>WPMUX</td>\n",
       "      <td>-0.515993</td>\n",
       "      <td>1.716266</td>\n",
       "      <td>5.899011</td>\n",
       "      <td>149.600746</td>\n",
       "    </tr>\n",
       "  </tbody>\n",
       "</table>\n",
       "</div>"
      ],
      "text/plain": [
       "      id        f0        f1        f2     product\n",
       "0  fwXo0 -1.146987  0.963328 -0.828965   27.758673\n",
       "1  WJtFt  0.262778  0.269839 -2.530187   56.069697\n",
       "2  ovLUW  0.194587  0.289035 -5.586433   62.871910\n",
       "3  q6cA6  2.236060 -0.553760  0.930038  114.572842\n",
       "4  WPMUX -0.515993  1.716266  5.899011  149.600746"
      ]
     },
     "metadata": {},
     "output_type": "display_data"
    },
    {
     "name": "stdout",
     "output_type": "stream",
     "text": [
      "\n",
      "<class 'pandas.core.frame.DataFrame'>\n",
      "RangeIndex: 100000 entries, 0 to 99999\n",
      "Data columns (total 5 columns):\n",
      " #   Column   Non-Null Count   Dtype  \n",
      "---  ------   --------------   -----  \n",
      " 0   id       100000 non-null  object \n",
      " 1   f0       100000 non-null  float64\n",
      " 2   f1       100000 non-null  float64\n",
      " 3   f2       100000 non-null  float64\n",
      " 4   product  100000 non-null  float64\n",
      "dtypes: float64(4), object(1)\n",
      "memory usage: 3.8+ MB\n",
      "None\n",
      "\n",
      "(100000, 5)\n"
     ]
    }
   ],
   "source": [
    "data_2 = pd.read_csv('/datasets/geo_data_2.csv')\n",
    "display(data_2.head())\n",
    "print()\n",
    "print(data_2.info())\n",
    "print()\n",
    "print(data_2.shape)"
   ]
  },
  {
   "cell_type": "markdown",
   "metadata": {},
   "source": [
    "### **Первичное описание имеющихся данных:**"
   ]
  },
  {
   "cell_type": "markdown",
   "metadata": {},
   "source": [
    "- 'id' - уникальный идентификатор скважины,\n",
    "- 'f0' - признак точки (неважно, что означает, но признак значим),\n",
    "- 'f1' - признак точки (неважно, что означает, но признак значим),\n",
    "- 'f2' - признак точки (неважно, что означает, но признак значим),\n",
    "- 'product - объём запасов в скважине (тыс. баррелей) - **целевой признак.**"
   ]
  },
  {
   "cell_type": "markdown",
   "metadata": {},
   "source": [
    "### **Исследование количества пропусков данных и дубликатов в столбцах:**"
   ]
  },
  {
   "cell_type": "code",
   "execution_count": 5,
   "metadata": {},
   "outputs": [
    {
     "name": "stdout",
     "output_type": "stream",
     "text": [
      "Кол-во пропусков в первом датафрейме: id         0\n",
      "f0         0\n",
      "f1         0\n",
      "f2         0\n",
      "product    0\n",
      "dtype: int64\n",
      "\n",
      "Кол-во пропусков во втором датафрейме: id         0\n",
      "f0         0\n",
      "f1         0\n",
      "f2         0\n",
      "product    0\n",
      "dtype: int64\n",
      "\n",
      "Кол-во пропусков в третьем датафрейме: id         0\n",
      "f0         0\n",
      "f1         0\n",
      "f2         0\n",
      "product    0\n",
      "dtype: int64\n"
     ]
    }
   ],
   "source": [
    "print('Кол-во пропусков в первом датафрейме:', data_0.isna().sum())\n",
    "print()\n",
    "print('Кол-во пропусков во втором датафрейме:', data_1.isna().sum())\n",
    "print()\n",
    "print('Кол-во пропусков в третьем датафрейме:', data_2.isna().sum())"
   ]
  },
  {
   "cell_type": "markdown",
   "metadata": {},
   "source": [
    "Пропуски данных в датафреймах отсутствуют."
   ]
  },
  {
   "cell_type": "code",
   "execution_count": 6,
   "metadata": {},
   "outputs": [
    {
     "name": "stdout",
     "output_type": "stream",
     "text": [
      "Кол-во дубликатов в первом датафрейме: 0\n",
      "\n",
      "Кол-во дубликатов во втором датафрейме: 0\n",
      "\n",
      "Кол-во дубликатов в третьем датафрейме: 0\n"
     ]
    }
   ],
   "source": [
    "print('Кол-во дубликатов в первом датафрейме:', data_0.duplicated().sum())\n",
    "print()\n",
    "print('Кол-во дубликатов во втором датафрейме:', data_1.duplicated().sum())\n",
    "print()\n",
    "print('Кол-во дубликатов в третьем датафрейме:', data_2.duplicated().sum())"
   ]
  },
  {
   "cell_type": "markdown",
   "metadata": {},
   "source": [
    "Явные дубликаты в датафреймах отсутствуют."
   ]
  },
  {
   "cell_type": "markdown",
   "metadata": {},
   "source": [
    "### **Гистограммы по столбцам датафреймов:**"
   ]
  },
  {
   "cell_type": "markdown",
   "metadata": {},
   "source": [
    "**Первый датафрейм:**"
   ]
  },
  {
   "cell_type": "code",
   "execution_count": 7,
   "metadata": {},
   "outputs": [
    {
     "data": {
      "image/png": "[encoded data removed]",
      "text/plain": [
       "<Figure size 1440x1080 with 4 Axes>"
      ]
     },
     "metadata": {
      "needs_background": "light"
     },
     "output_type": "display_data"
    }
   ],
   "source": [
    "data_0.hist(figsize=(20, 15));"
   ]
  },
  {
   "cell_type": "markdown",
   "metadata": {},
   "source": [
    "**Второй датафрейм:**"
   ]
  },
  {
   "cell_type": "code",
   "execution_count": 8,
   "metadata": {},
   "outputs": [
    {
     "data": {
      "image/png": "[encoded data removed]",
      "text/plain": [
       "<Figure size 1440x1080 with 4 Axes>"
      ]
     },
     "metadata": {
      "needs_background": "light"
     },
     "output_type": "display_data"
    }
   ],
   "source": [
    "data_1.hist(figsize=(20, 15));"
   ]
  },
  {
   "cell_type": "markdown",
   "metadata": {},
   "source": [
    "**Третий датафрейм:**"
   ]
  },
  {
   "cell_type": "code",
   "execution_count": 9,
   "metadata": {},
   "outputs": [
    {
     "data": {
      "image/png": "[encoded data removed]",
      "text/plain": [
       "<Figure size 1440x1080 with 4 Axes>"
      ]
     },
     "metadata": {
      "needs_background": "light"
     },
     "output_type": "display_data"
    }
   ],
   "source": [
    "data_2.hist(figsize=(20, 15));"
   ]
  },
  {
   "cell_type": "markdown",
   "metadata": {},
   "source": [
    "В первом и третьем датафреймах данные имеют преимущественно нормальное распределение.  \n",
    "Во втором датафрейме присутствуют выбросы (аномальные значения) - так как из условий задачи неизвестно, что означают признаки ('f0', 'f1', 'f2'), сделать однозначный вывод о нормальности распределения данных и о характере выбросов не представляется возможным."
   ]
  },
  {
   "cell_type": "markdown",
   "metadata": {},
   "source": [
    "### **Исключение данных, не влияющих на целевой признак:**"
   ]
  },
  {
   "cell_type": "markdown",
   "metadata": {},
   "source": [
    "Также на данном этапе целесообразно удалить столбец, который явно не будет оказывать влияния на целевой признак (но может привести к переобучению модели) - столбец 'id': "
   ]
  },
  {
   "cell_type": "code",
   "execution_count": 10,
   "metadata": {},
   "outputs": [],
   "source": [
    "data_0 = data_0.drop(['id'], axis=1)\n",
    "data_1 = data_1.drop(['id'], axis=1)\n",
    "data_2 = data_2.drop(['id'], axis=1)"
   ]
  },
  {
   "cell_type": "markdown",
   "metadata": {},
   "source": [
    "### **Исследование кол-ва \"нулевых\" значений:**"
   ]
  },
  {
   "cell_type": "code",
   "execution_count": 11,
   "metadata": {},
   "outputs": [],
   "source": [
    "def zero_count(data, target):\n",
    "    count = data[data[target] == 0][target].count()\n",
    "    percent = count / data.shape[0]\n",
    "    print('Кол-во \"нулевых\" значений:', count)\n",
    "    print('Процент \"нулевых\" значений:', percent)"
   ]
  },
  {
   "cell_type": "markdown",
   "metadata": {},
   "source": [
    "**Первый датафрейм:**"
   ]
  },
  {
   "cell_type": "code",
   "execution_count": 12,
   "metadata": {},
   "outputs": [
    {
     "name": "stdout",
     "output_type": "stream",
     "text": [
      "Кол-во \"нулевых\" значений: 1\n",
      "Процент \"нулевых\" значений: 1e-05\n"
     ]
    }
   ],
   "source": [
    "zero_count(data_0, 'product')"
   ]
  },
  {
   "cell_type": "markdown",
   "metadata": {},
   "source": [
    "**Второй датафрейм:**"
   ]
  },
  {
   "cell_type": "code",
   "execution_count": 13,
   "metadata": {},
   "outputs": [
    {
     "name": "stdout",
     "output_type": "stream",
     "text": [
      "Кол-во \"нулевых\" значений: 8235\n",
      "Процент \"нулевых\" значений: 0.08235\n"
     ]
    }
   ],
   "source": [
    "zero_count(data_1, 'product')"
   ]
  },
  {
   "cell_type": "markdown",
   "metadata": {},
   "source": [
    "**Третий датафрейм:**"
   ]
  },
  {
   "cell_type": "code",
   "execution_count": 14,
   "metadata": {},
   "outputs": [
    {
     "name": "stdout",
     "output_type": "stream",
     "text": [
      "Кол-во \"нулевых\" значений: 1\n",
      "Процент \"нулевых\" значений: 1e-05\n"
     ]
    }
   ],
   "source": [
    "zero_count(data_2, 'product')"
   ]
  },
  {
   "cell_type": "markdown",
   "metadata": {},
   "source": [
    "Во втором датафрейме 8% данных имеет \"нулевое\" значения в столбце 'product' - предположительно данные были либо утеряны, либо данные о кол-ве тыс. баррелей не исследовались вовсе.  \n",
    "В первом и третьем датафреймах по одному \"нулевому\" значению в столбце 'product'."
   ]
  },
  {
   "cell_type": "markdown",
   "metadata": {},
   "source": [
    "### **Вывод:**"
   ]
  },
  {
   "cell_type": "markdown",
   "metadata": {},
   "source": [
    "**При первичном анализе датафрейма:**\n",
    "- несоответствий форматов данных не обнаружено;\n",
    "- явные дубликаты отсутствуют;\n",
    "- пропуски данных в столбцах отсутствуют;\n",
    "- \"аномальные\" значения отсутствуют в первом и третьем датафреймах;\n",
    "- \"аномальные\" значения присутствуют во втором датафрейме, однако, так как из условий задачи неизвестно, что означают признаки ('f0', 'f1', 'f2'), сделать однозначный вывод о нормальности распределения данных и о характере выбросов не представляется возможным - удаление \"аномальных\" значений на данной стадии исследования нецелесообразно;\n",
    "  \n",
    "**Из датафреймов удален столбец (\"id\")**, не влияющий на целевой признак.  \n",
    "**Установлено, что второй датафрейм** значительно отличается по своей структуре от первого и третьего, в т.ч. значительным кол-вом \"нулевых\" значений в столбце 'product' (целевой признак)."
   ]
  },
  {
   "cell_type": "markdown",
   "metadata": {},
   "source": [
    "## Обучение и проверка модели"
   ]
  },
  {
   "cell_type": "markdown",
   "metadata": {},
   "source": [
    "Для обучения модели будет использоваться линейная регрессия."
   ]
  },
  {
   "cell_type": "code",
   "execution_count": 15,
   "metadata": {},
   "outputs": [],
   "source": [
    "model = LinearRegression()"
   ]
  },
  {
   "cell_type": "markdown",
   "metadata": {},
   "source": [
    "Также в обучении будут участвовать исходные данные и данные с масштабированными признаками (для сравнения)."
   ]
  },
  {
   "cell_type": "markdown",
   "metadata": {},
   "source": [
    "*Функция разделения на выборки для исходных данных:*"
   ]
  },
  {
   "cell_type": "code",
   "execution_count": 16,
   "metadata": {},
   "outputs": [],
   "source": [
    "def feature_valid_split(data, target):\n",
    "    features = data.drop([target] , axis=1)\n",
    "    target = data[target]\n",
    "\n",
    "    features_train, features_valid, target_train, target_valid = train_test_split(features, target, test_size=0.25, random_state=12345)\n",
    "    \n",
    "    return features_train, features_valid, target_train, target_valid"
   ]
  },
  {
   "cell_type": "markdown",
   "metadata": {},
   "source": [
    "*Функция разделения на выборки для данных с масштабированными признаками:*"
   ]
  },
  {
   "cell_type": "code",
   "execution_count": 17,
   "metadata": {},
   "outputs": [],
   "source": [
    "def feature_valid_split_scaled(data, numeric, target):\n",
    "    data_scaled = data.copy()\n",
    "\n",
    "    features_scaled = data_scaled.drop([target] , axis=1)\n",
    "    target_scaled = data_scaled[target]\n",
    "\n",
    "    features_train_scaled, features_valid_scaled, target_train_scaled, target_valid_scaled = train_test_split(features_scaled, target_scaled, test_size=0.25, random_state=12345)\n",
    "\n",
    "    scaler = StandardScaler()\n",
    "    scaler.fit(features_train_scaled[numeric])\n",
    "    features_train_scaled[numeric] = scaler.transform(features_train_scaled[numeric])\n",
    "    features_valid_scaled[numeric] = scaler.transform(features_valid_scaled[numeric])\n",
    "\n",
    "    return features_train_scaled, features_valid_scaled, target_train_scaled, target_valid_scaled"
   ]
  },
  {
   "cell_type": "markdown",
   "metadata": {},
   "source": [
    "### **Работа с исходными данными:**"
   ]
  },
  {
   "cell_type": "markdown",
   "metadata": {},
   "source": [
    "**Первый датафрейм - разделение на обучающую и валидационную выборки:**"
   ]
  },
  {
   "cell_type": "code",
   "execution_count": 18,
   "metadata": {},
   "outputs": [
    {
     "name": "stdout",
     "output_type": "stream",
     "text": [
      "Тренировочная: 75000\n",
      "Валидационная: 25000\n"
     ]
    },
    {
     "data": {
      "text/html": [
       "<div>\n",
       "<style scoped>\n",
       "    .dataframe tbody tr th:only-of-type {\n",
       "        vertical-align: middle;\n",
       "    }\n",
       "\n",
       "    .dataframe tbody tr th {\n",
       "        vertical-align: top;\n",
       "    }\n",
       "\n",
       "    .dataframe thead th {\n",
       "        text-align: right;\n",
       "    }\n",
       "</style>\n",
       "<table border=\"1\" class=\"dataframe\">\n",
       "  <thead>\n",
       "    <tr style=\"text-align: right;\">\n",
       "      <th></th>\n",
       "      <th>f0</th>\n",
       "      <th>f1</th>\n",
       "      <th>f2</th>\n",
       "    </tr>\n",
       "  </thead>\n",
       "  <tbody>\n",
       "    <tr>\n",
       "      <th>27212</th>\n",
       "      <td>0.022450</td>\n",
       "      <td>0.951034</td>\n",
       "      <td>2.197333</td>\n",
       "    </tr>\n",
       "    <tr>\n",
       "      <th>7866</th>\n",
       "      <td>1.766731</td>\n",
       "      <td>0.007835</td>\n",
       "      <td>6.436602</td>\n",
       "    </tr>\n",
       "    <tr>\n",
       "      <th>62041</th>\n",
       "      <td>0.724514</td>\n",
       "      <td>0.666063</td>\n",
       "      <td>1.840177</td>\n",
       "    </tr>\n",
       "    <tr>\n",
       "      <th>70185</th>\n",
       "      <td>-1.104181</td>\n",
       "      <td>0.255268</td>\n",
       "      <td>2.026156</td>\n",
       "    </tr>\n",
       "    <tr>\n",
       "      <th>82230</th>\n",
       "      <td>-0.635263</td>\n",
       "      <td>0.747990</td>\n",
       "      <td>6.643327</td>\n",
       "    </tr>\n",
       "  </tbody>\n",
       "</table>\n",
       "</div>"
      ],
      "text/plain": [
       "             f0        f1        f2\n",
       "27212  0.022450  0.951034  2.197333\n",
       "7866   1.766731  0.007835  6.436602\n",
       "62041  0.724514  0.666063  1.840177\n",
       "70185 -1.104181  0.255268  2.026156\n",
       "82230 -0.635263  0.747990  6.643327"
      ]
     },
     "metadata": {},
     "output_type": "display_data"
    }
   ],
   "source": [
    "features_train_0, features_valid_0, target_train_0, target_valid_0 = feature_valid_split(data_0, 'product')\n",
    "print('Тренировочная:', features_train_0.shape[0])\n",
    "print('Валидационная:', features_valid_0.shape[0])\n",
    "display(features_train_0.head())"
   ]
  },
  {
   "cell_type": "markdown",
   "metadata": {},
   "source": [
    "**Первый датафрейм - обучение модели:**"
   ]
  },
  {
   "cell_type": "code",
   "execution_count": 19,
   "metadata": {},
   "outputs": [
    {
     "name": "stdout",
     "output_type": "stream",
     "text": [
      "RMSE: 37.5794217150813\n"
     ]
    }
   ],
   "source": [
    "model.fit(features_train_0, target_train_0)\n",
    "predicted_target_0 = pd.Series(model.predict(features_valid_0), index=features_valid_0.index)\n",
    "mse_0 = mean_squared_error(target_valid_0, predicted_target_0)**0.5\n",
    "print('RMSE:', mse_0)"
   ]
  },
  {
   "cell_type": "markdown",
   "metadata": {},
   "source": [
    "**Второй датафрейм - разделение на обучающую и валидационную выборки:**"
   ]
  },
  {
   "cell_type": "code",
   "execution_count": 20,
   "metadata": {},
   "outputs": [
    {
     "name": "stdout",
     "output_type": "stream",
     "text": [
      "Тренировочная: 75000\n",
      "Валидационная: 25000\n"
     ]
    },
    {
     "data": {
      "text/html": [
       "<div>\n",
       "<style scoped>\n",
       "    .dataframe tbody tr th:only-of-type {\n",
       "        vertical-align: middle;\n",
       "    }\n",
       "\n",
       "    .dataframe tbody tr th {\n",
       "        vertical-align: top;\n",
       "    }\n",
       "\n",
       "    .dataframe thead th {\n",
       "        text-align: right;\n",
       "    }\n",
       "</style>\n",
       "<table border=\"1\" class=\"dataframe\">\n",
       "  <thead>\n",
       "    <tr style=\"text-align: right;\">\n",
       "      <th></th>\n",
       "      <th>f0</th>\n",
       "      <th>f1</th>\n",
       "      <th>f2</th>\n",
       "    </tr>\n",
       "  </thead>\n",
       "  <tbody>\n",
       "    <tr>\n",
       "      <th>27212</th>\n",
       "      <td>-6.488552</td>\n",
       "      <td>-1.590478</td>\n",
       "      <td>3.001311</td>\n",
       "    </tr>\n",
       "    <tr>\n",
       "      <th>7866</th>\n",
       "      <td>18.819463</td>\n",
       "      <td>4.602079</td>\n",
       "      <td>2.996867</td>\n",
       "    </tr>\n",
       "    <tr>\n",
       "      <th>62041</th>\n",
       "      <td>10.816499</td>\n",
       "      <td>-3.919653</td>\n",
       "      <td>1.991077</td>\n",
       "    </tr>\n",
       "    <tr>\n",
       "      <th>70185</th>\n",
       "      <td>-12.416362</td>\n",
       "      <td>-9.343774</td>\n",
       "      <td>0.996691</td>\n",
       "    </tr>\n",
       "    <tr>\n",
       "      <th>82230</th>\n",
       "      <td>-15.041012</td>\n",
       "      <td>-8.474624</td>\n",
       "      <td>1.996463</td>\n",
       "    </tr>\n",
       "  </tbody>\n",
       "</table>\n",
       "</div>"
      ],
      "text/plain": [
       "              f0        f1        f2\n",
       "27212  -6.488552 -1.590478  3.001311\n",
       "7866   18.819463  4.602079  2.996867\n",
       "62041  10.816499 -3.919653  1.991077\n",
       "70185 -12.416362 -9.343774  0.996691\n",
       "82230 -15.041012 -8.474624  1.996463"
      ]
     },
     "metadata": {},
     "output_type": "display_data"
    }
   ],
   "source": [
    "features_train_1, features_valid_1, target_train_1, target_valid_1 = feature_valid_split(data_1, 'product')\n",
    "print('Тренировочная:', features_train_1.shape[0])\n",
    "print('Валидационная:', features_valid_1.shape[0])\n",
    "display(features_train_1.head())"
   ]
  },
  {
   "cell_type": "markdown",
   "metadata": {},
   "source": [
    "**Второй датафрейм - обучение модели:**"
   ]
  },
  {
   "cell_type": "code",
   "execution_count": 21,
   "metadata": {},
   "outputs": [
    {
     "name": "stdout",
     "output_type": "stream",
     "text": [
      "RMSE: 0.893099286775617\n"
     ]
    }
   ],
   "source": [
    "model.fit(features_train_1, target_train_1)\n",
    "predicted_target_1 = pd.Series(model.predict(features_valid_1), index=features_valid_1.index)\n",
    "mse_1 = mean_squared_error(target_valid_1, predicted_target_1)**0.5\n",
    "print('RMSE:', mse_1)"
   ]
  },
  {
   "cell_type": "markdown",
   "metadata": {},
   "source": [
    "**Третий датафрейм - разделение на обучающую и валидационную выборки:**"
   ]
  },
  {
   "cell_type": "code",
   "execution_count": 22,
   "metadata": {},
   "outputs": [
    {
     "name": "stdout",
     "output_type": "stream",
     "text": [
      "Тренировочная: 75000\n",
      "Валидационная: 25000\n"
     ]
    },
    {
     "data": {
      "text/html": [
       "<div>\n",
       "<style scoped>\n",
       "    .dataframe tbody tr th:only-of-type {\n",
       "        vertical-align: middle;\n",
       "    }\n",
       "\n",
       "    .dataframe tbody tr th {\n",
       "        vertical-align: top;\n",
       "    }\n",
       "\n",
       "    .dataframe thead th {\n",
       "        text-align: right;\n",
       "    }\n",
       "</style>\n",
       "<table border=\"1\" class=\"dataframe\">\n",
       "  <thead>\n",
       "    <tr style=\"text-align: right;\">\n",
       "      <th></th>\n",
       "      <th>f0</th>\n",
       "      <th>f1</th>\n",
       "      <th>f2</th>\n",
       "    </tr>\n",
       "  </thead>\n",
       "  <tbody>\n",
       "    <tr>\n",
       "      <th>27212</th>\n",
       "      <td>-0.906828</td>\n",
       "      <td>1.339033</td>\n",
       "      <td>1.106789</td>\n",
       "    </tr>\n",
       "    <tr>\n",
       "      <th>7866</th>\n",
       "      <td>-1.536353</td>\n",
       "      <td>-0.704673</td>\n",
       "      <td>-1.747632</td>\n",
       "    </tr>\n",
       "    <tr>\n",
       "      <th>62041</th>\n",
       "      <td>-1.959584</td>\n",
       "      <td>0.356044</td>\n",
       "      <td>3.528659</td>\n",
       "    </tr>\n",
       "    <tr>\n",
       "      <th>70185</th>\n",
       "      <td>2.129734</td>\n",
       "      <td>2.713459</td>\n",
       "      <td>-0.156172</td>\n",
       "    </tr>\n",
       "    <tr>\n",
       "      <th>82230</th>\n",
       "      <td>-0.332026</td>\n",
       "      <td>1.515604</td>\n",
       "      <td>5.417583</td>\n",
       "    </tr>\n",
       "  </tbody>\n",
       "</table>\n",
       "</div>"
      ],
      "text/plain": [
       "             f0        f1        f2\n",
       "27212 -0.906828  1.339033  1.106789\n",
       "7866  -1.536353 -0.704673 -1.747632\n",
       "62041 -1.959584  0.356044  3.528659\n",
       "70185  2.129734  2.713459 -0.156172\n",
       "82230 -0.332026  1.515604  5.417583"
      ]
     },
     "metadata": {},
     "output_type": "display_data"
    }
   ],
   "source": [
    "features_train_2, features_valid_2, target_train_2, target_valid_2 = feature_valid_split(data_2, 'product')\n",
    "print('Тренировочная:', features_train_2.shape[0])\n",
    "print('Валидационная:', features_valid_2.shape[0])\n",
    "display(features_train_2.head())"
   ]
  },
  {
   "cell_type": "markdown",
   "metadata": {},
   "source": [
    "**Третий датафрейм - обучение модели:**"
   ]
  },
  {
   "cell_type": "code",
   "execution_count": 23,
   "metadata": {},
   "outputs": [
    {
     "name": "stdout",
     "output_type": "stream",
     "text": [
      "RMSE: 40.02970873393434\n"
     ]
    }
   ],
   "source": [
    "model.fit(features_train_2, target_train_2)\n",
    "predicted_target_2 = pd.Series(model.predict(features_valid_2), index=features_valid_2.index)\n",
    "mse_2 = mean_squared_error(target_valid_2, predicted_target_2)**0.5\n",
    "print('RMSE:', mse_2)"
   ]
  },
  {
   "cell_type": "markdown",
   "metadata": {},
   "source": [
    "### **Работа с данными с масштабированными признаками:**"
   ]
  },
  {
   "cell_type": "markdown",
   "metadata": {},
   "source": [
    "**Первый датафрейм - разделение на обучающую и валидационную выборки:**"
   ]
  },
  {
   "cell_type": "code",
   "execution_count": 24,
   "metadata": {},
   "outputs": [
    {
     "name": "stdout",
     "output_type": "stream",
     "text": [
      "Тренировочная: 75000\n",
      "Валидационная: 25000\n"
     ]
    },
    {
     "data": {
      "text/html": [
       "<div>\n",
       "<style scoped>\n",
       "    .dataframe tbody tr th:only-of-type {\n",
       "        vertical-align: middle;\n",
       "    }\n",
       "\n",
       "    .dataframe tbody tr th {\n",
       "        vertical-align: top;\n",
       "    }\n",
       "\n",
       "    .dataframe thead th {\n",
       "        text-align: right;\n",
       "    }\n",
       "</style>\n",
       "<table border=\"1\" class=\"dataframe\">\n",
       "  <thead>\n",
       "    <tr style=\"text-align: right;\">\n",
       "      <th></th>\n",
       "      <th>f0</th>\n",
       "      <th>f1</th>\n",
       "      <th>f2</th>\n",
       "    </tr>\n",
       "  </thead>\n",
       "  <tbody>\n",
       "    <tr>\n",
       "      <th>27212</th>\n",
       "      <td>-0.544828</td>\n",
       "      <td>1.390264</td>\n",
       "      <td>-0.094959</td>\n",
       "    </tr>\n",
       "    <tr>\n",
       "      <th>7866</th>\n",
       "      <td>1.455912</td>\n",
       "      <td>-0.480422</td>\n",
       "      <td>1.209567</td>\n",
       "    </tr>\n",
       "    <tr>\n",
       "      <th>62041</th>\n",
       "      <td>0.260460</td>\n",
       "      <td>0.825069</td>\n",
       "      <td>-0.204865</td>\n",
       "    </tr>\n",
       "    <tr>\n",
       "      <th>70185</th>\n",
       "      <td>-1.837105</td>\n",
       "      <td>0.010321</td>\n",
       "      <td>-0.147634</td>\n",
       "    </tr>\n",
       "    <tr>\n",
       "      <th>82230</th>\n",
       "      <td>-1.299243</td>\n",
       "      <td>0.987558</td>\n",
       "      <td>1.273181</td>\n",
       "    </tr>\n",
       "  </tbody>\n",
       "</table>\n",
       "</div>"
      ],
      "text/plain": [
       "             f0        f1        f2\n",
       "27212 -0.544828  1.390264 -0.094959\n",
       "7866   1.455912 -0.480422  1.209567\n",
       "62041  0.260460  0.825069 -0.204865\n",
       "70185 -1.837105  0.010321 -0.147634\n",
       "82230 -1.299243  0.987558  1.273181"
      ]
     },
     "metadata": {},
     "output_type": "display_data"
    }
   ],
   "source": [
    "features_train_0_scaled, features_valid_0_scaled, target_train_0_scaled, target_valid_0_scaled = feature_valid_split_scaled(data_0, ['f0', 'f1', 'f2'], 'product')\n",
    "print('Тренировочная:', features_train_0_scaled.shape[0])\n",
    "print('Валидационная:', features_valid_0_scaled.shape[0])\n",
    "display(features_train_0_scaled.head())"
   ]
  },
  {
   "cell_type": "markdown",
   "metadata": {},
   "source": [
    "**Первый датафрейм - обучение модели:**"
   ]
  },
  {
   "cell_type": "code",
   "execution_count": 25,
   "metadata": {},
   "outputs": [
    {
     "name": "stdout",
     "output_type": "stream",
     "text": [
      "RMSE: 37.5794217150813\n"
     ]
    }
   ],
   "source": [
    "model.fit(features_train_0_scaled, target_train_0_scaled)\n",
    "predicted_target_0_scaled = pd.Series(model.predict(features_valid_0_scaled), index=features_valid_0_scaled.index)\n",
    "mse_0_scaled = mean_squared_error(target_valid_0_scaled, predicted_target_0_scaled)**0.5\n",
    "print('RMSE:', mse_0_scaled)"
   ]
  },
  {
   "cell_type": "markdown",
   "metadata": {},
   "source": [
    "**Второй датафрейм - разделение на обучающую и валидационную выборки:**"
   ]
  },
  {
   "cell_type": "code",
   "execution_count": 26,
   "metadata": {},
   "outputs": [
    {
     "name": "stdout",
     "output_type": "stream",
     "text": [
      "Тренировочная: 75000\n",
      "Валидационная: 25000\n"
     ]
    },
    {
     "data": {
      "text/html": [
       "<div>\n",
       "<style scoped>\n",
       "    .dataframe tbody tr th:only-of-type {\n",
       "        vertical-align: middle;\n",
       "    }\n",
       "\n",
       "    .dataframe tbody tr th {\n",
       "        vertical-align: top;\n",
       "    }\n",
       "\n",
       "    .dataframe thead th {\n",
       "        text-align: right;\n",
       "    }\n",
       "</style>\n",
       "<table border=\"1\" class=\"dataframe\">\n",
       "  <thead>\n",
       "    <tr style=\"text-align: right;\">\n",
       "      <th></th>\n",
       "      <th>f0</th>\n",
       "      <th>f1</th>\n",
       "      <th>f2</th>\n",
       "    </tr>\n",
       "  </thead>\n",
       "  <tbody>\n",
       "    <tr>\n",
       "      <th>27212</th>\n",
       "      <td>-0.850855</td>\n",
       "      <td>0.624428</td>\n",
       "      <td>0.296943</td>\n",
       "    </tr>\n",
       "    <tr>\n",
       "      <th>7866</th>\n",
       "      <td>1.971935</td>\n",
       "      <td>1.832275</td>\n",
       "      <td>0.294333</td>\n",
       "    </tr>\n",
       "    <tr>\n",
       "      <th>62041</th>\n",
       "      <td>1.079305</td>\n",
       "      <td>0.170127</td>\n",
       "      <td>-0.296418</td>\n",
       "    </tr>\n",
       "    <tr>\n",
       "      <th>70185</th>\n",
       "      <td>-1.512028</td>\n",
       "      <td>-0.887837</td>\n",
       "      <td>-0.880471</td>\n",
       "    </tr>\n",
       "    <tr>\n",
       "      <th>82230</th>\n",
       "      <td>-1.804775</td>\n",
       "      <td>-0.718311</td>\n",
       "      <td>-0.293255</td>\n",
       "    </tr>\n",
       "  </tbody>\n",
       "</table>\n",
       "</div>"
      ],
      "text/plain": [
       "             f0        f1        f2\n",
       "27212 -0.850855  0.624428  0.296943\n",
       "7866   1.971935  1.832275  0.294333\n",
       "62041  1.079305  0.170127 -0.296418\n",
       "70185 -1.512028 -0.887837 -0.880471\n",
       "82230 -1.804775 -0.718311 -0.293255"
      ]
     },
     "metadata": {},
     "output_type": "display_data"
    }
   ],
   "source": [
    "features_train_1_scaled, features_valid_1_scaled, target_train_1_scaled, target_valid_1_scaled = feature_valid_split_scaled(data_1, ['f0', 'f1', 'f2'], 'product')\n",
    "print('Тренировочная:', features_train_1_scaled.shape[0])\n",
    "print('Валидационная:', features_valid_1_scaled.shape[0])\n",
    "display(features_train_1_scaled.head())"
   ]
  },
  {
   "cell_type": "markdown",
   "metadata": {},
   "source": [
    "**Второй датафрейм - обучение модели:**"
   ]
  },
  {
   "cell_type": "code",
   "execution_count": 27,
   "metadata": {},
   "outputs": [
    {
     "name": "stdout",
     "output_type": "stream",
     "text": [
      "RMSE: 0.893099286775617\n"
     ]
    }
   ],
   "source": [
    "model.fit(features_train_1_scaled, target_train_1_scaled)\n",
    "predicted_target_1_scaled = pd.Series(model.predict(features_valid_1_scaled), index=features_valid_1_scaled.index)\n",
    "mse_1_scaled = mean_squared_error(target_valid_1_scaled, predicted_target_1_scaled)**0.5\n",
    "print('RMSE:', mse_1_scaled)"
   ]
  },
  {
   "cell_type": "markdown",
   "metadata": {},
   "source": [
    "**Третий датафрейм - разделение на обучающую и валидационную выборки:**"
   ]
  },
  {
   "cell_type": "code",
   "execution_count": 28,
   "metadata": {},
   "outputs": [
    {
     "name": "stdout",
     "output_type": "stream",
     "text": [
      "Тренировочная: 75000\n",
      "Валидационная: 25000\n"
     ]
    },
    {
     "data": {
      "text/html": [
       "<div>\n",
       "<style scoped>\n",
       "    .dataframe tbody tr th:only-of-type {\n",
       "        vertical-align: middle;\n",
       "    }\n",
       "\n",
       "    .dataframe tbody tr th {\n",
       "        vertical-align: top;\n",
       "    }\n",
       "\n",
       "    .dataframe thead th {\n",
       "        text-align: right;\n",
       "    }\n",
       "</style>\n",
       "<table border=\"1\" class=\"dataframe\">\n",
       "  <thead>\n",
       "    <tr style=\"text-align: right;\">\n",
       "      <th></th>\n",
       "      <th>f0</th>\n",
       "      <th>f1</th>\n",
       "      <th>f2</th>\n",
       "    </tr>\n",
       "  </thead>\n",
       "  <tbody>\n",
       "    <tr>\n",
       "      <th>27212</th>\n",
       "      <td>-0.526160</td>\n",
       "      <td>0.776329</td>\n",
       "      <td>-0.400793</td>\n",
       "    </tr>\n",
       "    <tr>\n",
       "      <th>7866</th>\n",
       "      <td>-0.889625</td>\n",
       "      <td>-0.404070</td>\n",
       "      <td>-1.222936</td>\n",
       "    </tr>\n",
       "    <tr>\n",
       "      <th>62041</th>\n",
       "      <td>-1.133984</td>\n",
       "      <td>0.208576</td>\n",
       "      <td>0.296765</td>\n",
       "    </tr>\n",
       "    <tr>\n",
       "      <th>70185</th>\n",
       "      <td>1.227045</td>\n",
       "      <td>1.570166</td>\n",
       "      <td>-0.764556</td>\n",
       "    </tr>\n",
       "    <tr>\n",
       "      <th>82230</th>\n",
       "      <td>-0.194289</td>\n",
       "      <td>0.878312</td>\n",
       "      <td>0.840821</td>\n",
       "    </tr>\n",
       "  </tbody>\n",
       "</table>\n",
       "</div>"
      ],
      "text/plain": [
       "             f0        f1        f2\n",
       "27212 -0.526160  0.776329 -0.400793\n",
       "7866  -0.889625 -0.404070 -1.222936\n",
       "62041 -1.133984  0.208576  0.296765\n",
       "70185  1.227045  1.570166 -0.764556\n",
       "82230 -0.194289  0.878312  0.840821"
      ]
     },
     "metadata": {},
     "output_type": "display_data"
    }
   ],
   "source": [
    "features_train_2_scaled, features_valid_2_scaled, target_train_2_scaled, target_valid_2_scaled = feature_valid_split_scaled(data_2, ['f0', 'f1', 'f2'], 'product')\n",
    "print('Тренировочная:', features_train_2_scaled.shape[0])\n",
    "print('Валидационная:', features_valid_2_scaled.shape[0])\n",
    "display(features_train_2_scaled.head())"
   ]
  },
  {
   "cell_type": "markdown",
   "metadata": {},
   "source": [
    "**Третий датафрейм - обучение модели:**"
   ]
  },
  {
   "cell_type": "code",
   "execution_count": 29,
   "metadata": {},
   "outputs": [
    {
     "name": "stdout",
     "output_type": "stream",
     "text": [
      "RMSE: 40.02970873393434\n"
     ]
    }
   ],
   "source": [
    "model.fit(features_train_2_scaled, target_train_2_scaled)\n",
    "predicted_target_2_scaled = pd.Series(model.predict(features_valid_2_scaled), index=features_valid_2_scaled.index)\n",
    "mse_2_scaled = mean_squared_error(target_valid_2_scaled, predicted_target_2_scaled)**0.5\n",
    "print('RMSE:', mse_2_scaled)"
   ]
  },
  {
   "cell_type": "markdown",
   "metadata": {},
   "source": [
    "**Итоги:**"
   ]
  },
  {
   "cell_type": "markdown",
   "metadata": {},
   "source": [
    "**Первый датафрейм:**  \n",
    "- RMSE: 37.5794217150813 (исходные данные)\n",
    "- RMSE: 37.5794217150813 (данные с масштабированными признаками)  \n",
    "  \n",
    "**Второй датафрейм:**\n",
    "- RMSE: 0.893099286775617 (исходные данные)\n",
    "- RMSE: 0.893099286775617 (данные с масштабированными признаками)  \n",
    "  \n",
    "**Третий датафрейм:**\n",
    "- RMSE: 40.02970873393434 (исходные данные)\n",
    "- RMSE: 40.02970873393434 (данные с масштабированными признаками)  "
   ]
  },
  {
   "cell_type": "markdown",
   "metadata": {},
   "source": [
    "Показатель RMSE не изменился, *масшатирование признаков не оказало положительного влияния* на модель."
   ]
  },
  {
   "cell_type": "markdown",
   "metadata": {},
   "source": [
    "### **Сохранение предсказаний и правильных ответов на валидационной выборке:**"
   ]
  },
  {
   "cell_type": "markdown",
   "metadata": {},
   "source": [
    "**Первый датафрейм:**  "
   ]
  },
  {
   "cell_type": "code",
   "execution_count": 30,
   "metadata": {},
   "outputs": [
    {
     "data": {
      "text/html": [
       "<div>\n",
       "<style scoped>\n",
       "    .dataframe tbody tr th:only-of-type {\n",
       "        vertical-align: middle;\n",
       "    }\n",
       "\n",
       "    .dataframe tbody tr th {\n",
       "        vertical-align: top;\n",
       "    }\n",
       "\n",
       "    .dataframe thead th {\n",
       "        text-align: right;\n",
       "    }\n",
       "</style>\n",
       "<table border=\"1\" class=\"dataframe\">\n",
       "  <thead>\n",
       "    <tr style=\"text-align: right;\">\n",
       "      <th></th>\n",
       "      <th>prediction</th>\n",
       "      <th>product</th>\n",
       "    </tr>\n",
       "  </thead>\n",
       "  <tbody>\n",
       "    <tr>\n",
       "      <th>71751</th>\n",
       "      <td>95.894952</td>\n",
       "      <td>10.038645</td>\n",
       "    </tr>\n",
       "    <tr>\n",
       "      <th>80493</th>\n",
       "      <td>77.572583</td>\n",
       "      <td>114.551489</td>\n",
       "    </tr>\n",
       "    <tr>\n",
       "      <th>2655</th>\n",
       "      <td>77.892640</td>\n",
       "      <td>132.603635</td>\n",
       "    </tr>\n",
       "    <tr>\n",
       "      <th>53233</th>\n",
       "      <td>90.175134</td>\n",
       "      <td>169.072125</td>\n",
       "    </tr>\n",
       "    <tr>\n",
       "      <th>91141</th>\n",
       "      <td>70.510088</td>\n",
       "      <td>122.325180</td>\n",
       "    </tr>\n",
       "  </tbody>\n",
       "</table>\n",
       "</div>"
      ],
      "text/plain": [
       "       prediction     product\n",
       "71751   95.894952   10.038645\n",
       "80493   77.572583  114.551489\n",
       "2655    77.892640  132.603635\n",
       "53233   90.175134  169.072125\n",
       "91141   70.510088  122.325180"
      ]
     },
     "metadata": {},
     "output_type": "display_data"
    },
    {
     "name": "stdout",
     "output_type": "stream",
     "text": [
      "\n"
     ]
    },
    {
     "data": {
      "text/plain": [
       "(25000, 2)"
      ]
     },
     "metadata": {},
     "output_type": "display_data"
    }
   ],
   "source": [
    "df_test0 = pd.DataFrame()\n",
    "df_test0[\"prediction\"] = predicted_target_0\n",
    "df_test0[\"product\"] = target_valid_0\n",
    "display(df_test0.head())\n",
    "print()\n",
    "display(df_test0.shape)"
   ]
  },
  {
   "cell_type": "markdown",
   "metadata": {},
   "source": [
    "**Второй датафрейм:**"
   ]
  },
  {
   "cell_type": "code",
   "execution_count": 31,
   "metadata": {},
   "outputs": [
    {
     "data": {
      "text/html": [
       "<div>\n",
       "<style scoped>\n",
       "    .dataframe tbody tr th:only-of-type {\n",
       "        vertical-align: middle;\n",
       "    }\n",
       "\n",
       "    .dataframe tbody tr th {\n",
       "        vertical-align: top;\n",
       "    }\n",
       "\n",
       "    .dataframe thead th {\n",
       "        text-align: right;\n",
       "    }\n",
       "</style>\n",
       "<table border=\"1\" class=\"dataframe\">\n",
       "  <thead>\n",
       "    <tr style=\"text-align: right;\">\n",
       "      <th></th>\n",
       "      <th>prediction</th>\n",
       "      <th>product</th>\n",
       "    </tr>\n",
       "  </thead>\n",
       "  <tbody>\n",
       "    <tr>\n",
       "      <th>71751</th>\n",
       "      <td>82.663314</td>\n",
       "      <td>80.859783</td>\n",
       "    </tr>\n",
       "    <tr>\n",
       "      <th>80493</th>\n",
       "      <td>54.431786</td>\n",
       "      <td>53.906522</td>\n",
       "    </tr>\n",
       "    <tr>\n",
       "      <th>2655</th>\n",
       "      <td>29.748760</td>\n",
       "      <td>30.132364</td>\n",
       "    </tr>\n",
       "    <tr>\n",
       "      <th>53233</th>\n",
       "      <td>53.552133</td>\n",
       "      <td>53.906522</td>\n",
       "    </tr>\n",
       "    <tr>\n",
       "      <th>91141</th>\n",
       "      <td>1.243856</td>\n",
       "      <td>0.000000</td>\n",
       "    </tr>\n",
       "  </tbody>\n",
       "</table>\n",
       "</div>"
      ],
      "text/plain": [
       "       prediction    product\n",
       "71751   82.663314  80.859783\n",
       "80493   54.431786  53.906522\n",
       "2655    29.748760  30.132364\n",
       "53233   53.552133  53.906522\n",
       "91141    1.243856   0.000000"
      ]
     },
     "metadata": {},
     "output_type": "display_data"
    },
    {
     "name": "stdout",
     "output_type": "stream",
     "text": [
      "\n"
     ]
    },
    {
     "data": {
      "text/plain": [
       "(25000, 2)"
      ]
     },
     "metadata": {},
     "output_type": "display_data"
    }
   ],
   "source": [
    "df_test1 = pd.DataFrame()\n",
    "df_test1[\"prediction\"] = predicted_target_1\n",
    "df_test1[\"product\"] = target_valid_1\n",
    "display(df_test1.head())\n",
    "print()\n",
    "display(df_test1.shape)"
   ]
  },
  {
   "cell_type": "markdown",
   "metadata": {},
   "source": [
    "**Третий датафрейм:**"
   ]
  },
  {
   "cell_type": "code",
   "execution_count": 32,
   "metadata": {},
   "outputs": [
    {
     "data": {
      "text/html": [
       "<div>\n",
       "<style scoped>\n",
       "    .dataframe tbody tr th:only-of-type {\n",
       "        vertical-align: middle;\n",
       "    }\n",
       "\n",
       "    .dataframe tbody tr th {\n",
       "        vertical-align: top;\n",
       "    }\n",
       "\n",
       "    .dataframe thead th {\n",
       "        text-align: right;\n",
       "    }\n",
       "</style>\n",
       "<table border=\"1\" class=\"dataframe\">\n",
       "  <thead>\n",
       "    <tr style=\"text-align: right;\">\n",
       "      <th></th>\n",
       "      <th>prediction</th>\n",
       "      <th>product</th>\n",
       "    </tr>\n",
       "  </thead>\n",
       "  <tbody>\n",
       "    <tr>\n",
       "      <th>71751</th>\n",
       "      <td>93.599633</td>\n",
       "      <td>61.212375</td>\n",
       "    </tr>\n",
       "    <tr>\n",
       "      <th>80493</th>\n",
       "      <td>75.105159</td>\n",
       "      <td>41.850118</td>\n",
       "    </tr>\n",
       "    <tr>\n",
       "      <th>2655</th>\n",
       "      <td>90.066809</td>\n",
       "      <td>57.776581</td>\n",
       "    </tr>\n",
       "    <tr>\n",
       "      <th>53233</th>\n",
       "      <td>105.162375</td>\n",
       "      <td>100.053761</td>\n",
       "    </tr>\n",
       "    <tr>\n",
       "      <th>91141</th>\n",
       "      <td>115.303310</td>\n",
       "      <td>109.897122</td>\n",
       "    </tr>\n",
       "  </tbody>\n",
       "</table>\n",
       "</div>"
      ],
      "text/plain": [
       "       prediction     product\n",
       "71751   93.599633   61.212375\n",
       "80493   75.105159   41.850118\n",
       "2655    90.066809   57.776581\n",
       "53233  105.162375  100.053761\n",
       "91141  115.303310  109.897122"
      ]
     },
     "metadata": {},
     "output_type": "display_data"
    },
    {
     "name": "stdout",
     "output_type": "stream",
     "text": [
      "\n"
     ]
    },
    {
     "data": {
      "text/plain": [
       "(25000, 2)"
      ]
     },
     "metadata": {},
     "output_type": "display_data"
    }
   ],
   "source": [
    "df_test2 = pd.DataFrame()\n",
    "df_test2[\"prediction\"] = predicted_target_2\n",
    "df_test2[\"product\"] = target_valid_2\n",
    "display(df_test2.head())\n",
    "print()\n",
    "display(df_test2.shape)"
   ]
  },
  {
   "cell_type": "markdown",
   "metadata": {},
   "source": [
    "### **Расчет среднего запаса предсказанного сырья:**"
   ]
  },
  {
   "cell_type": "markdown",
   "metadata": {},
   "source": [
    "**Первый датафрейм:**"
   ]
  },
  {
   "cell_type": "code",
   "execution_count": 33,
   "metadata": {},
   "outputs": [
    {
     "name": "stdout",
     "output_type": "stream",
     "text": [
      "Первый датафрейм: 92.59256778438035\n",
      "Средний запас предсказанного сырья: 92.59256778438035\n",
      "Средний запас фактического сырья: 92.07859674082927\n",
      "Показатель RMSE: 37.5794217150813\n"
     ]
    }
   ],
   "source": [
    "predicted_target_0_mean = predicted_target_0.mean()\n",
    "real_target_0_mean = target_valid_0.mean()\n",
    "print('Первый датафрейм:', predicted_target_0_mean)\n",
    "print('Средний запас предсказанного сырья:', predicted_target_0_mean)\n",
    "print('Средний запас фактического сырья:', real_target_0_mean)\n",
    "print('Показатель RMSE:', mse_0)"
   ]
  },
  {
   "cell_type": "markdown",
   "metadata": {},
   "source": [
    "**Второй датафрейм:**"
   ]
  },
  {
   "cell_type": "code",
   "execution_count": 34,
   "metadata": {},
   "outputs": [
    {
     "name": "stdout",
     "output_type": "stream",
     "text": [
      "Второй датафрейм: 68.728546895446\n",
      "Средний запас предсказанного сырья: 68.728546895446\n",
      "Средний запас фактического сырья: 68.72313602435997\n",
      "Показатель RMSE: 0.893099286775617\n"
     ]
    }
   ],
   "source": [
    "predicted_target_1_mean = predicted_target_1.mean()\n",
    "real_target_1_mean = target_valid_1.mean()\n",
    "print('Второй датафрейм:', predicted_target_1_mean)\n",
    "print('Средний запас предсказанного сырья:', predicted_target_1_mean)\n",
    "print('Средний запас фактического сырья:', real_target_1_mean)\n",
    "print('Показатель RMSE:', mse_1)"
   ]
  },
  {
   "cell_type": "markdown",
   "metadata": {},
   "source": [
    "**Третий датафрейм:**"
   ]
  },
  {
   "cell_type": "code",
   "execution_count": 35,
   "metadata": {},
   "outputs": [
    {
     "name": "stdout",
     "output_type": "stream",
     "text": [
      "Третий датафрейм: 94.96504596800489\n",
      "Средний запас предсказанного сырья: 94.96504596800489\n",
      "Средний запас фактического сырья: 94.88423280885438\n",
      "Показатель RMSE: 40.02970873393434\n"
     ]
    }
   ],
   "source": [
    "predicted_target_2_mean = predicted_target_2.mean()\n",
    "real_target_2_mean = target_valid_2.mean()\n",
    "print('Третий датафрейм:', predicted_target_2_mean)\n",
    "print('Средний запас предсказанного сырья:', predicted_target_2_mean)\n",
    "print('Средний запас фактического сырья:', real_target_2_mean)\n",
    "print('Показатель RMSE:', mse_2)"
   ]
  },
  {
   "cell_type": "markdown",
   "metadata": {},
   "source": [
    "### **Вывод:**"
   ]
  },
  {
   "cell_type": "markdown",
   "metadata": {},
   "source": [
    "Предсказанные запасы сырья по всем трем датафреймам практически идентичны (с разницей в десятые доли) фактическим запасам сырья.  \n",
    "  \n",
    "  \n",
    "Самый высокий запас сырья (предсказанный и фактический) установлен в третьем датафрейме (94.9650 и 94.8842), однако, у данного датафрейма и самый высокий показатель квадратного корня из средней квадратичной ошибки (RMSE: 40.0297).  \n",
    "  \n",
    "  \n",
    "Следующий по показателям - первый датафрейм: предсказанные и фактические запасы ниже (на 2 пункта:92.5926 и 92.0786), но и ниже показатель RMSE (RMSE: 37.5794).  \n",
    "  \n",
    "Второй датафрейм - минимальный по показателям предсказанных и фактических запасов (68.7285 и 68.7231), но также и минимальный по показателю RMSE (RMSE: 0.8931)."
   ]
  },
  {
   "cell_type": "markdown",
   "metadata": {},
   "source": [
    "Таким образом, в первом и третьем масторождениях объемы сырья примерно одинаковые, однако, и модели имеют бóльшие погрешности.  \n",
    "Во 2 масторождении средние запасы сырья значительно ниже, однако, и погрешность модели значительно ниже. Это может быть обусловлено ранее установленным обстоятельством, что второй датафрейм значительно отличается по своей структуре от первого и третьего, в т.ч. значительным кол-вом \"нулевых\" значений в столбце 'product'."
   ]
  },
  {
   "cell_type": "markdown",
   "metadata": {},
   "source": [
    "## Подготовка к расчёту прибыли"
   ]
  },
  {
   "cell_type": "markdown",
   "metadata": {},
   "source": [
    "### **Подготовка данных для расчетов:**"
   ]
  },
  {
   "cell_type": "markdown",
   "metadata": {},
   "source": [
    "**Из условий задачи известно:**  \n",
    "- *При разведке региона исследуют 500 точек, из которых с помощью машинного обучения выбирают 200 лучших для разработки.*  \n",
    "- *Бюджет на разработку скважин в регионе — 10 млрд рублей.*  \n",
    "- *При нынешних ценах один баррель сырья приносит 450 рублей дохода. Доход с каждой единицы продукта составляет 450 тыс. рублей, поскольку объём указан в тысячах баррелей.*  \n",
    "- *После оценки рисков нужно оставить лишь те регионы, в которых вероятность убытков меньше 2.5%. Среди них выбирают регион с наибольшей средней прибылью.*"
   ]
  },
  {
   "cell_type": "markdown",
   "metadata": {},
   "source": [
    "Исходя из условий задачи возможен расчет:\n",
    "- за условную единицу берется: \"тыс.руб\" в \"тыс.бар.\"\n",
    "- за условную единицу берется: \"руб.\" в \"бар.\"  \n",
    "  \n",
    "В расчетах используем первый вариант: суммы в тыс.руб., единицы продукта в тыс.бар."
   ]
  },
  {
   "cell_type": "code",
   "execution_count": 36,
   "metadata": {},
   "outputs": [],
   "source": [
    "RESEARCH_POINT = 500\n",
    "WORKING_POINT = 200\n",
    "BUDGET = 10**7 #10 000 000 тыс.руб.\n",
    "PROFIT_FROM_BARREL = 450 #450 тыс.руб.\n",
    "RISK_INDEX = 0.025\n",
    "\n",
    "BOOTSTRAP_SAMPLES = 1000\n",
    "CONFIDENTIAL_INTERVAL = 0.95"
   ]
  },
  {
   "cell_type": "markdown",
   "metadata": {},
   "source": [
    "### **Расчет минимального объема добычи для безубыточного производства:**"
   ]
  },
  {
   "cell_type": "markdown",
   "metadata": {},
   "source": [
    "**Расчет минимального объема добычи на 200 месторождениях для безубыточного производства:**"
   ]
  },
  {
   "cell_type": "code",
   "execution_count": 37,
   "metadata": {},
   "outputs": [
    {
     "name": "stdout",
     "output_type": "stream",
     "text": [
      "Средняя прибыль на лучшую точку: 50000 тыс.руб.\n"
     ]
    }
   ],
   "source": [
    "MEAN_PROFIT_PER_POINT = BUDGET/WORKING_POINT\n",
    "print('Средняя прибыль на лучшую точку:', round(MEAN_PROFIT_PER_POINT), 'тыс.руб.')"
   ]
  },
  {
   "cell_type": "markdown",
   "metadata": {},
   "source": [
    "**Расчет среднего количества сырья в месторождениях, необходимого для безубыточного производства:**"
   ]
  },
  {
   "cell_type": "code",
   "execution_count": 38,
   "metadata": {},
   "outputs": [
    {
     "name": "stdout",
     "output_type": "stream",
     "text": [
      "Средний запас сырья на лучшей точке: 111 тыс.бар.\n"
     ]
    }
   ],
   "source": [
    "MEAN_BARRELS_PER_POINT = MEAN_PROFIT_PER_POINT/PROFIT_FROM_BARREL\n",
    "print('Средний запас сырья на лучшей точке:', round(MEAN_BARRELS_PER_POINT), 'тыс.бар.')"
   ]
  },
  {
   "cell_type": "markdown",
   "metadata": {},
   "source": [
    "**Расчет среднего количества сырья в месторождениях на регион:**"
   ]
  },
  {
   "cell_type": "code",
   "execution_count": 39,
   "metadata": {},
   "outputs": [
    {
     "name": "stdout",
     "output_type": "stream",
     "text": [
      "Средний запас сырья в регионе: 22222 тыс.бар.\n"
     ]
    }
   ],
   "source": [
    "MEAN_BARRELS_PER_REGION = BUDGET/PROFIT_FROM_BARREL\n",
    "print('Средний запас сырья в регионе:', round(MEAN_BARRELS_PER_REGION), 'тыс.бар.')"
   ]
  },
  {
   "cell_type": "markdown",
   "metadata": {},
   "source": [
    "**Расчет среднего запаса сырья в месторождении по каждому региону:**"
   ]
  },
  {
   "cell_type": "code",
   "execution_count": 40,
   "metadata": {},
   "outputs": [
    {
     "name": "stdout",
     "output_type": "stream",
     "text": [
      "Регион 1 (датафрейм 1) - Средний фактичекой запас сырья: 92.50000000000001\n",
      "Регион 2 (датафрейм 2) - Средний фактичекой запас сырья: 68.82500000000002\n",
      "Регион 3 (датафрейм 3) - Средний фактичекой запас сырья: 95.00000000000004\n"
     ]
    }
   ],
   "source": [
    "print('Регион 1 (датафрейм 1) - Средний фактичекой запас сырья:', data_0['product'].mean())\n",
    "print('Регион 2 (датафрейм 2) - Средний фактичекой запас сырья:', data_1['product'].mean())\n",
    "print('Регион 3 (датафрейм 3) - Средний фактичекой запас сырья:', data_2['product'].mean())"
   ]
  },
  {
   "cell_type": "markdown",
   "metadata": {},
   "source": [
    "**Расчет кол-ва месторождений по регионам, в которых запасов фактического сырья не менее 111 тыс.бар.:**"
   ]
  },
  {
   "cell_type": "code",
   "execution_count": 41,
   "metadata": {},
   "outputs": [
    {
     "name": "stdout",
     "output_type": "stream",
     "text": [
      "Регион 1 (датафрейм 1) - Кол-во месторождений, в которых запасов сырья не менее 111 тыс.бар.: 36676\n",
      "Регион 2 (датафрейм 2) - Кол-во месторождений, в которых запасов сырья не менее 111 тыс.бар.: 16537\n",
      "Регион 3 (датафрейм 3) - Кол-во месторождений, в которых запасов сырья не менее 111 тыс.бар.: 38278\n"
     ]
    }
   ],
   "source": [
    "print('Регион 1 (датафрейм 1) - Кол-во месторождений, в которых запасов сырья не менее 111 тыс.бар.:', data_0[data_0['product']>=111]['product'].count())\n",
    "print('Регион 2 (датафрейм 2) - Кол-во месторождений, в которых запасов сырья не менее 111 тыс.бар.:', data_1[data_1['product']>=111]['product'].count())\n",
    "print('Регион 3 (датафрейм 3) - Кол-во месторождений, в которых запасов сырья не менее 111 тыс.бар.:', data_2[data_2['product']>=111]['product'].count())"
   ]
  },
  {
   "cell_type": "markdown",
   "metadata": {},
   "source": [
    "### **Вывод:**"
   ]
  },
  {
   "cell_type": "markdown",
   "metadata": {},
   "source": [
    "Проведенным анализом установлено:\n",
    "- Безубыточное производство возможно, если **в месторождении сырья не менее чем на 111 тыс.бар.** (при условии выбора 200 лучших скважин из 500 в выборке)\n",
    "- Безубыточное производство возможно, если **в месторождениях региона сырья не менее чем на 22222 тыс.бар.**\n",
    "- **Средний запас сырья в месторождении по регионам составил:**\n",
    "    - Регион 1 (датафрейм 1): 92.5 тыс.бар.\n",
    "    - Регион 2 (датафрейм 2): 68.8 тыс.бар.\n",
    "    - Регион 3 (датафрейм 3): 95.0 тыс.бар.\n",
    "- **Кол-во месторождений по регионам, в которых запасов фактического сырья не менее 111 тыс.бар.:**\n",
    "    - Регион 1 (датафрейм 1): 36676 шт.\n",
    "    - Регион 2 (датафрейм 2): 16537 шт.\n",
    "    - Регион 3 (датафрейм 3): 38278 шт."
   ]
  },
  {
   "cell_type": "markdown",
   "metadata": {},
   "source": [
    "Таким образом, первый и третий регионы потенциально являются более прибыльными, чем второй. При этом, все три региона являются потенциально безубыточными при выборе определенных месторождений."
   ]
  },
  {
   "cell_type": "markdown",
   "metadata": {},
   "source": [
    "## Расчёт прибыли и рисков "
   ]
  },
  {
   "cell_type": "markdown",
   "metadata": {},
   "source": [
    "### **Функция для расчета прибыли:**"
   ]
  },
  {
   "cell_type": "code",
   "execution_count": 42,
   "metadata": {},
   "outputs": [],
   "source": [
    "state = np.random.RandomState(12345)"
   ]
  },
  {
   "cell_type": "code",
   "execution_count": 43,
   "metadata": {},
   "outputs": [],
   "source": [
    "def income(predicted_target, target_valid, count):\n",
    "    probs_sorted = target_valid.sort_values(ascending=False)\n",
    "    selected = predicted_target[probs_sorted.index][:count]\n",
    "    return selected.sum() * PROFIT_FROM_BARREL - BUDGET"
   ]
  },
  {
   "cell_type": "markdown",
   "metadata": {},
   "source": [
    "### **Функция для расчета рисков:**"
   ]
  },
  {
   "cell_type": "code",
   "execution_count": 44,
   "metadata": {},
   "outputs": [],
   "source": [
    "def bootstrap(target_valid, predicted_target, region):\n",
    "    values=[]\n",
    "    for i in range(1000):\n",
    "        research_point = predicted_target.sample(replace=True, random_state=state, n=RESEARCH_POINT)\n",
    "        working_point = target_valid[research_point.index]\n",
    "        values.append(income(research_point, working_point, WORKING_POINT))\n",
    "    \n",
    "    values = pd.Series(values)\n",
    "    print(f'Регион {region} (датафрейм {region}) - средняя прибыль:', round(values.mean()), 'тыс.руб.')   \n",
    "    lower = values.quantile(0.025)\n",
    "    upper = values.quantile(0.975)\n",
    "    print(f'95% доверительный интервал от:', round(lower), 'тыс.руб.', 'до', round(upper), 'тыс.руб.')\n",
    "    risk = values[values<0].count() / values.count() * 100\n",
    "    print(f'Риск убытков:', round(risk, 2), '%')"
   ]
  },
  {
   "cell_type": "markdown",
   "metadata": {},
   "source": [
    "**Первый регион (первый датафрейм):**"
   ]
  },
  {
   "cell_type": "code",
   "execution_count": 45,
   "metadata": {
    "scrolled": false
   },
   "outputs": [
    {
     "name": "stdout",
     "output_type": "stream",
     "text": [
      "Регион 1 (датафрейм 1) - средняя прибыль: 425939 тыс.руб.\n",
      "95% доверительный интервал от: -102090 тыс.руб. до 947976 тыс.руб.\n",
      "Риск убытков: 6.0 %\n"
     ]
    }
   ],
   "source": [
    "bootstrap(predicted_target_0, target_valid_0, 1)"
   ]
  },
  {
   "cell_type": "markdown",
   "metadata": {},
   "source": [
    "**Второй регион (второй датафрейм):**"
   ]
  },
  {
   "cell_type": "code",
   "execution_count": 46,
   "metadata": {
    "scrolled": false
   },
   "outputs": [
    {
     "name": "stdout",
     "output_type": "stream",
     "text": [
      "Регион 2 (датафрейм 2) - средняя прибыль: 518259 тыс.руб.\n",
      "95% доверительный интервал от: 128123 тыс.руб. до 953613 тыс.руб.\n",
      "Риск убытков: 0.3 %\n"
     ]
    }
   ],
   "source": [
    "bootstrap(predicted_target_1, target_valid_1, 2)"
   ]
  },
  {
   "cell_type": "markdown",
   "metadata": {},
   "source": [
    "**Третий регион (третий датафрейм):**"
   ]
  },
  {
   "cell_type": "code",
   "execution_count": 47,
   "metadata": {
    "scrolled": false
   },
   "outputs": [
    {
     "name": "stdout",
     "output_type": "stream",
     "text": [
      "Регион 3 (датафрейм 3) - средняя прибыль: 420194 тыс.руб.\n",
      "95% доверительный интервал от: -115853 тыс.руб. до 989630 тыс.руб.\n",
      "Риск убытков: 6.2 %\n"
     ]
    }
   ],
   "source": [
    "bootstrap(predicted_target_2, target_valid_2, 3)"
   ]
  },
  {
   "cell_type": "markdown",
   "metadata": {},
   "source": [
    "### **Вывод:**"
   ]
  },
  {
   "cell_type": "markdown",
   "metadata": {},
   "source": [
    "Проведен первичный анализ данных. Установлено отсутствие несоответствий форматов данных, явных дубликататов, пропусков данных.    \n",
    "\n",
    "Из датафреймов удален столбец (\"id\"), который не оказывает влияния на целевой признак, но может негативно сказаться на обучении модели (привести к переобучению).  \n",
    "    \n",
    "Установлено, что второй датафрейм (второй регион) значительно отличается по своей структуре от первого и третьего, в т.ч. значительным кол-вом \"нулевых\" значений в столбце 'product' (целевой признак).\n",
    "\n",
    "Предсказанные запасы сырья по всем трем регионам практически идентичны (с разницей в десятые доли) фактическим запасам сырья по регионам.\n",
    "\n",
    "Расчитаны показатели RMSE для каждого региона:\n",
    "- Первый регион: 37.5794\n",
    "- Второй регион: 0.8931\n",
    "- Третий регион: 40.0297\n",
    "  \n",
    "Выявлено, что безубыточное производство возможно, если в месторождении сырья не менее чем на 111 тыс.бар. (при условии выбора 200 лучших скважин из 500 в выборке).\n",
    "  \n",
    "Рассчитано кол-во месторождений по регионам, в которых запасов фактического сырья не менее 111 тыс.бар.:\n",
    "- Регион 1 (датафрейм 1): 36676 шт.\n",
    "- Регион 2 (датафрейм 2): 16537 шт.\n",
    "- Регион 3 (датафрейм 3): 38278 шт.\n",
    "  \n",
    "Первый и третий регионы имеют схожие показатели, как по уровню потенциальной прибыли, так и по уровню рисков.  \n",
    "  \n",
    "По результатам проведенного анализа установлено, что второй регион показывает лучшие с точки зрения прибыли показатели:\n",
    "- минимальные риски,\n",
    "- более \"узкий\" доверительный интервал,\n",
    "- окупаемость даже при выборе не самых лучших месторождений для разработки,  \n",
    "  \n",
    "и рекомендован к разработке.\n",
    "  \n",
    "\n"
   ]
  }
 ],
 "metadata": {
  "ExecuteTimeLog": [
   {
    "duration": 1416,
    "start_time": "2023-02-07T08:43:28.746Z"
   },
   {
    "duration": 429,
    "start_time": "2023-02-07T08:43:30.165Z"
   },
   {
    "duration": 586,
    "start_time": "2023-02-07T08:43:30.596Z"
   },
   {
    "duration": 559,
    "start_time": "2023-02-07T08:43:31.184Z"
   },
   {
    "duration": 5,
    "start_time": "2023-02-07T08:43:31.744Z"
   },
   {
    "duration": 0,
    "start_time": "2023-02-07T08:43:31.753Z"
   },
   {
    "duration": 0,
    "start_time": "2023-02-07T08:43:31.754Z"
   },
   {
    "duration": 0,
    "start_time": "2023-02-07T08:43:31.756Z"
   },
   {
    "duration": 0,
    "start_time": "2023-02-07T08:43:31.757Z"
   },
   {
    "duration": 0,
    "start_time": "2023-02-07T08:43:31.758Z"
   },
   {
    "duration": 0,
    "start_time": "2023-02-07T08:43:31.760Z"
   },
   {
    "duration": 0,
    "start_time": "2023-02-07T08:43:31.762Z"
   },
   {
    "duration": 0,
    "start_time": "2023-02-07T08:43:31.763Z"
   },
   {
    "duration": 1,
    "start_time": "2023-02-07T08:43:31.764Z"
   },
   {
    "duration": 0,
    "start_time": "2023-02-07T08:43:31.767Z"
   },
   {
    "duration": 0,
    "start_time": "2023-02-07T08:43:31.768Z"
   },
   {
    "duration": 0,
    "start_time": "2023-02-07T08:43:31.792Z"
   },
   {
    "duration": 0,
    "start_time": "2023-02-07T08:43:31.794Z"
   },
   {
    "duration": 0,
    "start_time": "2023-02-07T08:43:31.795Z"
   },
   {
    "duration": 0,
    "start_time": "2023-02-07T08:43:31.796Z"
   },
   {
    "duration": 0,
    "start_time": "2023-02-07T08:43:31.797Z"
   },
   {
    "duration": 0,
    "start_time": "2023-02-07T08:43:31.798Z"
   },
   {
    "duration": 0,
    "start_time": "2023-02-07T08:43:31.800Z"
   },
   {
    "duration": 0,
    "start_time": "2023-02-07T08:43:31.801Z"
   },
   {
    "duration": 0,
    "start_time": "2023-02-07T08:43:31.802Z"
   },
   {
    "duration": 0,
    "start_time": "2023-02-07T08:43:31.804Z"
   },
   {
    "duration": 0,
    "start_time": "2023-02-07T08:43:31.804Z"
   },
   {
    "duration": 0,
    "start_time": "2023-02-07T08:43:31.806Z"
   },
   {
    "duration": 0,
    "start_time": "2023-02-07T08:43:31.807Z"
   },
   {
    "duration": 0,
    "start_time": "2023-02-07T08:43:31.808Z"
   },
   {
    "duration": 0,
    "start_time": "2023-02-07T08:43:31.809Z"
   },
   {
    "duration": 0,
    "start_time": "2023-02-07T08:43:31.811Z"
   },
   {
    "duration": 0,
    "start_time": "2023-02-07T08:43:31.812Z"
   },
   {
    "duration": 0,
    "start_time": "2023-02-07T08:43:31.813Z"
   },
   {
    "duration": 0,
    "start_time": "2023-02-07T08:43:31.814Z"
   },
   {
    "duration": 0,
    "start_time": "2023-02-07T08:43:31.816Z"
   },
   {
    "duration": 0,
    "start_time": "2023-02-07T08:43:31.817Z"
   },
   {
    "duration": 0,
    "start_time": "2023-02-07T08:43:31.818Z"
   },
   {
    "duration": 0,
    "start_time": "2023-02-07T08:43:31.819Z"
   },
   {
    "duration": 0,
    "start_time": "2023-02-07T08:43:31.820Z"
   },
   {
    "duration": 0,
    "start_time": "2023-02-07T08:43:31.821Z"
   },
   {
    "duration": 0,
    "start_time": "2023-02-07T08:43:31.822Z"
   },
   {
    "duration": 0,
    "start_time": "2023-02-07T08:43:31.823Z"
   },
   {
    "duration": 0,
    "start_time": "2023-02-07T08:43:31.824Z"
   },
   {
    "duration": 1269,
    "start_time": "2023-02-07T08:43:52.678Z"
   },
   {
    "duration": 170,
    "start_time": "2023-02-07T08:43:53.949Z"
   },
   {
    "duration": 137,
    "start_time": "2023-02-07T08:43:54.121Z"
   },
   {
    "duration": 141,
    "start_time": "2023-02-07T08:43:54.260Z"
   },
   {
    "duration": 19,
    "start_time": "2023-02-07T08:43:54.404Z"
   },
   {
    "duration": 128,
    "start_time": "2023-02-07T08:43:54.425Z"
   },
   {
    "duration": 614,
    "start_time": "2023-02-07T08:43:54.555Z"
   },
   {
    "duration": 613,
    "start_time": "2023-02-07T08:43:55.170Z"
   },
   {
    "duration": 758,
    "start_time": "2023-02-07T08:43:55.784Z"
   },
   {
    "duration": 12,
    "start_time": "2023-02-07T08:43:56.544Z"
   },
   {
    "duration": 6,
    "start_time": "2023-02-07T08:43:56.557Z"
   },
   {
    "duration": 7,
    "start_time": "2023-02-07T08:43:56.565Z"
   },
   {
    "duration": 23,
    "start_time": "2023-02-07T08:43:56.573Z"
   },
   {
    "duration": 6,
    "start_time": "2023-02-07T08:43:56.601Z"
   },
   {
    "duration": 12,
    "start_time": "2023-02-07T08:43:56.609Z"
   },
   {
    "duration": 4,
    "start_time": "2023-02-07T08:43:56.623Z"
   },
   {
    "duration": 4,
    "start_time": "2023-02-07T08:43:56.629Z"
   },
   {
    "duration": 22,
    "start_time": "2023-02-07T08:43:56.634Z"
   },
   {
    "duration": 43,
    "start_time": "2023-02-07T08:43:56.657Z"
   },
   {
    "duration": 209,
    "start_time": "2023-02-07T08:43:56.701Z"
   },
   {
    "duration": 16,
    "start_time": "2023-02-07T08:43:56.912Z"
   },
   {
    "duration": 174,
    "start_time": "2023-02-07T08:43:56.929Z"
   },
   {
    "duration": 17,
    "start_time": "2023-02-07T08:43:57.105Z"
   },
   {
    "duration": 187,
    "start_time": "2023-02-07T08:43:57.124Z"
   },
   {
    "duration": 15,
    "start_time": "2023-02-07T08:43:57.313Z"
   },
   {
    "duration": 119,
    "start_time": "2023-02-07T08:43:57.391Z"
   },
   {
    "duration": 16,
    "start_time": "2023-02-07T08:43:57.512Z"
   },
   {
    "duration": 188,
    "start_time": "2023-02-07T08:43:57.529Z"
   },
   {
    "duration": 15,
    "start_time": "2023-02-07T08:43:57.719Z"
   },
   {
    "duration": 90,
    "start_time": "2023-02-07T08:43:57.803Z"
   },
   {
    "duration": 11,
    "start_time": "2023-02-07T08:43:57.896Z"
   },
   {
    "duration": 7,
    "start_time": "2023-02-07T08:43:57.909Z"
   },
   {
    "duration": 6,
    "start_time": "2023-02-07T08:43:57.918Z"
   },
   {
    "duration": 19,
    "start_time": "2023-02-07T08:43:57.926Z"
   },
   {
    "duration": 5,
    "start_time": "2023-02-07T08:43:57.947Z"
   },
   {
    "duration": 12,
    "start_time": "2023-02-07T08:43:57.953Z"
   },
   {
    "duration": 17,
    "start_time": "2023-02-07T08:43:57.966Z"
   },
   {
    "duration": 12,
    "start_time": "2023-02-07T08:43:57.992Z"
   },
   {
    "duration": 7,
    "start_time": "2023-02-07T08:43:58.006Z"
   },
   {
    "duration": 6,
    "start_time": "2023-02-07T08:43:58.015Z"
   },
   {
    "duration": 9,
    "start_time": "2023-02-07T08:43:58.025Z"
   },
   {
    "duration": 8,
    "start_time": "2023-02-07T08:43:58.036Z"
   },
   {
    "duration": 8,
    "start_time": "2023-02-07T08:43:58.046Z"
   },
   {
    "duration": 129,
    "start_time": "2023-02-07T08:53:42.733Z"
   },
   {
    "duration": 11,
    "start_time": "2023-02-07T08:53:52.061Z"
   },
   {
    "duration": 13,
    "start_time": "2023-02-07T08:54:39.575Z"
   },
   {
    "duration": 12,
    "start_time": "2023-02-07T08:54:53.067Z"
   },
   {
    "duration": 15,
    "start_time": "2023-02-07T08:55:55.934Z"
   },
   {
    "duration": 5,
    "start_time": "2023-02-07T08:55:58.309Z"
   },
   {
    "duration": 29,
    "start_time": "2023-02-07T08:56:10.585Z"
   },
   {
    "duration": 3,
    "start_time": "2023-02-07T09:02:22.987Z"
   },
   {
    "duration": 5,
    "start_time": "2023-02-07T09:04:39.119Z"
   },
   {
    "duration": 3,
    "start_time": "2023-02-07T09:04:49.924Z"
   },
   {
    "duration": 11,
    "start_time": "2023-02-07T09:04:56.996Z"
   },
   {
    "duration": 9,
    "start_time": "2023-02-07T09:05:02.603Z"
   },
   {
    "duration": 8,
    "start_time": "2023-02-07T09:05:09.563Z"
   },
   {
    "duration": 8,
    "start_time": "2023-02-07T09:05:13.694Z"
   },
   {
    "duration": 7,
    "start_time": "2023-02-07T09:05:44.681Z"
   },
   {
    "duration": 13,
    "start_time": "2023-02-07T09:12:10.096Z"
   },
   {
    "duration": 12,
    "start_time": "2023-02-07T09:12:19.206Z"
   },
   {
    "duration": 8,
    "start_time": "2023-02-07T09:12:20.571Z"
   },
   {
    "duration": 8,
    "start_time": "2023-02-07T09:12:22.888Z"
   },
   {
    "duration": 7,
    "start_time": "2023-02-07T09:12:24.669Z"
   },
   {
    "duration": 4,
    "start_time": "2023-02-07T09:12:31.818Z"
   },
   {
    "duration": 818,
    "start_time": "2023-02-07T09:13:55.228Z"
   },
   {
    "duration": 793,
    "start_time": "2023-02-07T09:14:11.054Z"
   },
   {
    "duration": 15,
    "start_time": "2023-02-07T09:14:13.608Z"
   },
   {
    "duration": 777,
    "start_time": "2023-02-07T09:14:14.986Z"
   },
   {
    "duration": 734,
    "start_time": "2023-02-07T09:14:18.446Z"
   },
   {
    "duration": 771,
    "start_time": "2023-02-07T09:19:04.847Z"
   },
   {
    "duration": 766,
    "start_time": "2023-02-07T09:20:37.411Z"
   },
   {
    "duration": 1267,
    "start_time": "2023-02-07T09:21:21.440Z"
   },
   {
    "duration": 160,
    "start_time": "2023-02-07T09:21:22.710Z"
   },
   {
    "duration": 146,
    "start_time": "2023-02-07T09:21:22.871Z"
   },
   {
    "duration": 141,
    "start_time": "2023-02-07T09:21:23.019Z"
   },
   {
    "duration": 30,
    "start_time": "2023-02-07T09:21:23.162Z"
   },
   {
    "duration": 147,
    "start_time": "2023-02-07T09:21:23.194Z"
   },
   {
    "duration": 577,
    "start_time": "2023-02-07T09:21:23.343Z"
   },
   {
    "duration": 579,
    "start_time": "2023-02-07T09:21:23.922Z"
   },
   {
    "duration": 683,
    "start_time": "2023-02-07T09:21:24.502Z"
   },
   {
    "duration": 17,
    "start_time": "2023-02-07T09:21:25.187Z"
   },
   {
    "duration": 20,
    "start_time": "2023-02-07T09:21:25.206Z"
   },
   {
    "duration": 10,
    "start_time": "2023-02-07T09:21:25.228Z"
   },
   {
    "duration": 7,
    "start_time": "2023-02-07T09:21:25.239Z"
   },
   {
    "duration": 6,
    "start_time": "2023-02-07T09:21:25.248Z"
   },
   {
    "duration": 10,
    "start_time": "2023-02-07T09:21:25.256Z"
   },
   {
    "duration": 13,
    "start_time": "2023-02-07T09:21:25.267Z"
   },
   {
    "duration": 13,
    "start_time": "2023-02-07T09:21:25.282Z"
   },
   {
    "duration": 31,
    "start_time": "2023-02-07T09:21:25.298Z"
   },
   {
    "duration": 80,
    "start_time": "2023-02-07T09:21:25.330Z"
   },
   {
    "duration": 109,
    "start_time": "2023-02-07T09:21:25.414Z"
   },
   {
    "duration": 73,
    "start_time": "2023-02-07T09:21:25.525Z"
   },
   {
    "duration": 109,
    "start_time": "2023-02-07T09:21:25.601Z"
   },
   {
    "duration": 16,
    "start_time": "2023-02-07T09:21:25.712Z"
   },
   {
    "duration": 127,
    "start_time": "2023-02-07T09:21:25.796Z"
   },
   {
    "duration": 13,
    "start_time": "2023-02-07T09:21:25.924Z"
   },
   {
    "duration": 200,
    "start_time": "2023-02-07T09:21:25.939Z"
   },
   {
    "duration": 17,
    "start_time": "2023-02-07T09:21:26.141Z"
   },
   {
    "duration": 115,
    "start_time": "2023-02-07T09:21:26.211Z"
   },
   {
    "duration": 16,
    "start_time": "2023-02-07T09:21:26.328Z"
   },
   {
    "duration": 153,
    "start_time": "2023-02-07T09:21:26.345Z"
   },
   {
    "duration": 26,
    "start_time": "2023-02-07T09:21:26.500Z"
   },
   {
    "duration": 12,
    "start_time": "2023-02-07T09:21:26.528Z"
   },
   {
    "duration": 6,
    "start_time": "2023-02-07T09:21:26.541Z"
   },
   {
    "duration": 20,
    "start_time": "2023-02-07T09:21:26.548Z"
   },
   {
    "duration": 10,
    "start_time": "2023-02-07T09:21:26.570Z"
   },
   {
    "duration": 15,
    "start_time": "2023-02-07T09:21:26.582Z"
   },
   {
    "duration": 12,
    "start_time": "2023-02-07T09:21:26.599Z"
   },
   {
    "duration": 8,
    "start_time": "2023-02-07T09:21:26.613Z"
   },
   {
    "duration": 7,
    "start_time": "2023-02-07T09:21:26.622Z"
   },
   {
    "duration": 8,
    "start_time": "2023-02-07T09:21:26.630Z"
   },
   {
    "duration": 16,
    "start_time": "2023-02-07T09:21:26.640Z"
   },
   {
    "duration": 3,
    "start_time": "2023-02-07T09:21:26.658Z"
   },
   {
    "duration": 9,
    "start_time": "2023-02-07T09:21:26.662Z"
   },
   {
    "duration": 36,
    "start_time": "2023-02-07T09:21:26.672Z"
   },
   {
    "duration": 125,
    "start_time": "2023-02-07T09:21:26.710Z"
   },
   {
    "duration": 798,
    "start_time": "2023-02-07T09:21:34.830Z"
   },
   {
    "duration": 761,
    "start_time": "2023-02-07T09:22:20.886Z"
   },
   {
    "duration": 784,
    "start_time": "2023-02-07T09:22:49.385Z"
   },
   {
    "duration": 5,
    "start_time": "2023-02-07T09:23:44.599Z"
   },
   {
    "duration": 926,
    "start_time": "2023-02-07T09:23:45.909Z"
   },
   {
    "duration": 732,
    "start_time": "2023-02-07T09:26:17.960Z"
   },
   {
    "duration": 772,
    "start_time": "2023-02-07T09:27:12.986Z"
   },
   {
    "duration": 788,
    "start_time": "2023-02-07T09:27:15.196Z"
   },
   {
    "duration": 742,
    "start_time": "2023-02-07T09:27:39.334Z"
   },
   {
    "duration": 744,
    "start_time": "2023-02-07T09:27:40.856Z"
   },
   {
    "duration": 744,
    "start_time": "2023-02-07T09:27:42.560Z"
   },
   {
    "duration": 754,
    "start_time": "2023-02-07T09:27:51.045Z"
   },
   {
    "duration": 5,
    "start_time": "2023-02-07T09:30:38.070Z"
   },
   {
    "duration": 786,
    "start_time": "2023-02-07T09:30:40.719Z"
   },
   {
    "duration": 3,
    "start_time": "2023-02-07T09:40:29.856Z"
   },
   {
    "duration": 5,
    "start_time": "2023-02-07T09:40:30.815Z"
   },
   {
    "duration": 7,
    "start_time": "2023-02-07T09:40:54.609Z"
   },
   {
    "duration": 1426,
    "start_time": "2023-02-07T09:41:57.484Z"
   },
   {
    "duration": 1364,
    "start_time": "2023-02-07T09:42:27.594Z"
   },
   {
    "duration": 1477,
    "start_time": "2023-02-07T09:42:30.555Z"
   },
   {
    "duration": 8,
    "start_time": "2023-02-07T09:44:14.587Z"
   },
   {
    "duration": 6,
    "start_time": "2023-02-07T09:44:43.918Z"
   },
   {
    "duration": 4,
    "start_time": "2023-02-07T09:44:46.741Z"
   },
   {
    "duration": 1328,
    "start_time": "2023-02-07T09:44:49.149Z"
   },
   {
    "duration": 5,
    "start_time": "2023-02-07T09:45:50.484Z"
   },
   {
    "duration": 1428,
    "start_time": "2023-02-07T09:45:51.910Z"
   },
   {
    "duration": 5,
    "start_time": "2023-02-07T09:46:10.453Z"
   },
   {
    "duration": 1433,
    "start_time": "2023-02-07T09:46:11.406Z"
   },
   {
    "duration": 1428,
    "start_time": "2023-02-07T09:46:15.901Z"
   },
   {
    "duration": 1380,
    "start_time": "2023-02-07T09:46:19.816Z"
   },
   {
    "duration": 7,
    "start_time": "2023-02-07T09:46:56.997Z"
   },
   {
    "duration": 898,
    "start_time": "2023-02-07T09:47:01.220Z"
   },
   {
    "duration": 5,
    "start_time": "2023-02-07T09:47:12.817Z"
   },
   {
    "duration": 1402,
    "start_time": "2023-02-07T09:47:13.700Z"
   },
   {
    "duration": 3,
    "start_time": "2023-02-07T09:49:22.645Z"
   },
   {
    "duration": 7,
    "start_time": "2023-02-07T09:49:26.152Z"
   },
   {
    "duration": 1433,
    "start_time": "2023-02-07T09:49:27.963Z"
   },
   {
    "duration": 5,
    "start_time": "2023-02-07T09:51:08.384Z"
   },
   {
    "duration": 1431,
    "start_time": "2023-02-07T09:51:09.960Z"
   },
   {
    "duration": 1443,
    "start_time": "2023-02-07T09:51:18.461Z"
   },
   {
    "duration": 1422,
    "start_time": "2023-02-07T09:51:22.842Z"
   },
   {
    "duration": 1420,
    "start_time": "2023-02-07T09:51:25.916Z"
   },
   {
    "duration": 1381,
    "start_time": "2023-02-07T09:51:30.053Z"
   },
   {
    "duration": 6,
    "start_time": "2023-02-07T09:52:39.587Z"
   },
   {
    "duration": 1395,
    "start_time": "2023-02-07T09:52:40.951Z"
   },
   {
    "duration": 1404,
    "start_time": "2023-02-07T09:52:43.590Z"
   },
   {
    "duration": 1375,
    "start_time": "2023-02-07T09:52:46.111Z"
   },
   {
    "duration": 1278,
    "start_time": "2023-02-07T10:18:09.952Z"
   },
   {
    "duration": 153,
    "start_time": "2023-02-07T10:18:11.233Z"
   },
   {
    "duration": 133,
    "start_time": "2023-02-07T10:18:11.392Z"
   },
   {
    "duration": 149,
    "start_time": "2023-02-07T10:18:11.527Z"
   },
   {
    "duration": 34,
    "start_time": "2023-02-07T10:18:11.677Z"
   },
   {
    "duration": 136,
    "start_time": "2023-02-07T10:18:11.713Z"
   },
   {
    "duration": 586,
    "start_time": "2023-02-07T10:18:11.850Z"
   },
   {
    "duration": 524,
    "start_time": "2023-02-07T10:18:12.438Z"
   },
   {
    "duration": 681,
    "start_time": "2023-02-07T10:18:12.964Z"
   },
   {
    "duration": 14,
    "start_time": "2023-02-07T10:18:13.649Z"
   },
   {
    "duration": 6,
    "start_time": "2023-02-07T10:18:13.665Z"
   },
   {
    "duration": 19,
    "start_time": "2023-02-07T10:18:13.673Z"
   },
   {
    "duration": 7,
    "start_time": "2023-02-07T10:18:13.694Z"
   },
   {
    "duration": 19,
    "start_time": "2023-02-07T10:18:13.703Z"
   },
   {
    "duration": 4,
    "start_time": "2023-02-07T10:18:13.724Z"
   },
   {
    "duration": 8,
    "start_time": "2023-02-07T10:18:13.730Z"
   },
   {
    "duration": 7,
    "start_time": "2023-02-07T10:18:13.740Z"
   },
   {
    "duration": 23,
    "start_time": "2023-02-07T10:18:13.748Z"
   },
   {
    "duration": 20,
    "start_time": "2023-02-07T10:18:13.793Z"
   },
   {
    "duration": 97,
    "start_time": "2023-02-07T10:18:13.815Z"
   },
   {
    "duration": 24,
    "start_time": "2023-02-07T10:18:13.993Z"
   },
   {
    "duration": 109,
    "start_time": "2023-02-07T10:18:14.092Z"
   },
   {
    "duration": 16,
    "start_time": "2023-02-07T10:18:14.203Z"
   },
   {
    "duration": 200,
    "start_time": "2023-02-07T10:18:14.222Z"
   },
   {
    "duration": 12,
    "start_time": "2023-02-07T10:18:14.423Z"
   },
   {
    "duration": 175,
    "start_time": "2023-02-07T10:18:14.437Z"
   },
   {
    "duration": 15,
    "start_time": "2023-02-07T10:18:14.614Z"
   },
   {
    "duration": 189,
    "start_time": "2023-02-07T10:18:14.632Z"
   },
   {
    "duration": 13,
    "start_time": "2023-02-07T10:18:14.823Z"
   },
   {
    "duration": 101,
    "start_time": "2023-02-07T10:18:14.895Z"
   },
   {
    "duration": 15,
    "start_time": "2023-02-07T10:18:14.999Z"
   },
   {
    "duration": 60,
    "start_time": "2023-02-07T10:18:15.016Z"
   },
   {
    "duration": 6,
    "start_time": "2023-02-07T10:18:15.078Z"
   },
   {
    "duration": 11,
    "start_time": "2023-02-07T10:18:15.086Z"
   },
   {
    "duration": 9,
    "start_time": "2023-02-07T10:18:15.099Z"
   },
   {
    "duration": 5,
    "start_time": "2023-02-07T10:18:15.110Z"
   },
   {
    "duration": 10,
    "start_time": "2023-02-07T10:18:15.117Z"
   },
   {
    "duration": 7,
    "start_time": "2023-02-07T10:18:15.129Z"
   },
   {
    "duration": 31,
    "start_time": "2023-02-07T10:18:15.137Z"
   },
   {
    "duration": 7,
    "start_time": "2023-02-07T10:18:15.170Z"
   },
   {
    "duration": 13,
    "start_time": "2023-02-07T10:18:15.179Z"
   },
   {
    "duration": 3,
    "start_time": "2023-02-07T10:18:15.196Z"
   },
   {
    "duration": 21,
    "start_time": "2023-02-07T10:18:15.202Z"
   },
   {
    "duration": 29,
    "start_time": "2023-02-07T10:18:15.225Z"
   },
   {
    "duration": 1446,
    "start_time": "2023-02-07T10:18:15.256Z"
   },
   {
    "duration": 1420,
    "start_time": "2023-02-07T10:18:16.704Z"
   },
   {
    "duration": 1389,
    "start_time": "2023-02-07T10:18:18.126Z"
   },
   {
    "duration": 2016,
    "start_time": "2023-02-07T18:15:44.650Z"
   },
   {
    "duration": 541,
    "start_time": "2023-02-07T18:15:46.668Z"
   },
   {
    "duration": 195,
    "start_time": "2023-02-07T18:15:47.210Z"
   },
   {
    "duration": 192,
    "start_time": "2023-02-07T18:15:47.407Z"
   },
   {
    "duration": 21,
    "start_time": "2023-02-07T18:15:47.601Z"
   },
   {
    "duration": 116,
    "start_time": "2023-02-07T18:15:47.623Z"
   },
   {
    "duration": 537,
    "start_time": "2023-02-07T18:15:47.741Z"
   },
   {
    "duration": 501,
    "start_time": "2023-02-07T18:15:48.279Z"
   },
   {
    "duration": 571,
    "start_time": "2023-02-07T18:15:48.781Z"
   },
   {
    "duration": 12,
    "start_time": "2023-02-07T18:15:49.355Z"
   },
   {
    "duration": 5,
    "start_time": "2023-02-07T18:15:49.369Z"
   },
   {
    "duration": 7,
    "start_time": "2023-02-07T18:15:49.375Z"
   },
   {
    "duration": 6,
    "start_time": "2023-02-07T18:15:49.384Z"
   },
   {
    "duration": 4,
    "start_time": "2023-02-07T18:15:49.410Z"
   },
   {
    "duration": 8,
    "start_time": "2023-02-07T18:15:49.415Z"
   },
   {
    "duration": 7,
    "start_time": "2023-02-07T18:15:49.424Z"
   },
   {
    "duration": 7,
    "start_time": "2023-02-07T18:15:49.433Z"
   },
   {
    "duration": 21,
    "start_time": "2023-02-07T18:15:49.441Z"
   },
   {
    "duration": 51,
    "start_time": "2023-02-07T18:15:49.464Z"
   },
   {
    "duration": 112,
    "start_time": "2023-02-07T18:15:49.517Z"
   },
   {
    "duration": 79,
    "start_time": "2023-02-07T18:15:49.631Z"
   },
   {
    "duration": 104,
    "start_time": "2023-02-07T18:15:49.713Z"
   },
   {
    "duration": 15,
    "start_time": "2023-02-07T18:15:49.819Z"
   },
   {
    "duration": 182,
    "start_time": "2023-02-07T18:15:49.835Z"
   },
   {
    "duration": 16,
    "start_time": "2023-02-07T18:15:50.019Z"
   },
   {
    "duration": 200,
    "start_time": "2023-02-07T18:15:50.037Z"
   },
   {
    "duration": 11,
    "start_time": "2023-02-07T18:15:50.239Z"
   },
   {
    "duration": 171,
    "start_time": "2023-02-07T18:15:50.254Z"
   },
   {
    "duration": 12,
    "start_time": "2023-02-07T18:15:50.426Z"
   },
   {
    "duration": 168,
    "start_time": "2023-02-07T18:15:50.442Z"
   },
   {
    "duration": 12,
    "start_time": "2023-02-07T18:15:50.612Z"
   },
   {
    "duration": 11,
    "start_time": "2023-02-07T18:15:50.625Z"
   },
   {
    "duration": 5,
    "start_time": "2023-02-07T18:15:50.638Z"
   },
   {
    "duration": 5,
    "start_time": "2023-02-07T18:15:50.644Z"
   },
   {
    "duration": 7,
    "start_time": "2023-02-07T18:15:50.650Z"
   },
   {
    "duration": 3,
    "start_time": "2023-02-07T18:15:50.658Z"
   },
   {
    "duration": 47,
    "start_time": "2023-02-07T18:15:50.663Z"
   },
   {
    "duration": 3,
    "start_time": "2023-02-07T18:15:50.712Z"
   },
   {
    "duration": 10,
    "start_time": "2023-02-07T18:15:50.716Z"
   },
   {
    "duration": 13,
    "start_time": "2023-02-07T18:15:50.727Z"
   },
   {
    "duration": 14,
    "start_time": "2023-02-07T18:15:50.741Z"
   },
   {
    "duration": 3,
    "start_time": "2023-02-07T18:15:50.757Z"
   },
   {
    "duration": 4,
    "start_time": "2023-02-07T18:15:50.761Z"
   },
   {
    "duration": 6,
    "start_time": "2023-02-07T18:15:50.767Z"
   },
   {
    "duration": 1174,
    "start_time": "2023-02-07T18:15:50.775Z"
   },
   {
    "duration": 1152,
    "start_time": "2023-02-07T18:15:51.950Z"
   },
   {
    "duration": 1121,
    "start_time": "2023-02-07T18:15:53.103Z"
   },
   {
    "duration": 7,
    "start_time": "2023-02-07T18:36:30.801Z"
   }
  ],
  "kernelspec": {
   "display_name": "Python 3 (ipykernel)",
   "language": "python",
   "name": "python3"
  },
  "language_info": {
   "codemirror_mode": {
    "name": "ipython",
    "version": 3
   },
   "file_extension": ".py",
   "mimetype": "text/x-python",
   "name": "python",
   "nbconvert_exporter": "python",
   "pygments_lexer": "ipython3",
   "version": "3.9.13"
  },
  "toc": {
   "base_numbering": 1,
   "nav_menu": {},
   "number_sections": true,
   "sideBar": true,
   "skip_h1_title": true,
   "title_cell": "Table of Contents",
   "title_sidebar": "Contents",
   "toc_cell": false,
   "toc_position": {},
   "toc_section_display": true,
   "toc_window_display": true
  }
 },
 "nbformat": 4,
 "nbformat_minor": 2
}
